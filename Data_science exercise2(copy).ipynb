{
 "cells": [
  {
   "cell_type": "markdown",
   "metadata": {},
   "source": [
    "## Exercise 2:Analysis of Gasoline Prices\n",
    "\n",
    "Name:Niharika Kumari"
   ]
  },
  {
   "cell_type": "code",
   "execution_count": 26,
   "metadata": {},
   "outputs": [
    {
     "data": {
      "text/html": [
       "\n",
       "    <div class=\"bk-root\">\n",
       "        <a href=\"https://bokeh.pydata.org\" target=\"_blank\" class=\"bk-logo bk-logo-small bk-logo-notebook\"></a>\n",
       "        <span id=\"1002\">Loading BokehJS ...</span>\n",
       "    </div>"
      ]
     },
     "metadata": {},
     "output_type": "display_data"
    },
    {
     "data": {
      "application/javascript": [
       "\n",
       "(function(root) {\n",
       "  function now() {\n",
       "    return new Date();\n",
       "  }\n",
       "\n",
       "  var force = true;\n",
       "\n",
       "  if (typeof (root._bokeh_onload_callbacks) === \"undefined\" || force === true) {\n",
       "    root._bokeh_onload_callbacks = [];\n",
       "    root._bokeh_is_loading = undefined;\n",
       "  }\n",
       "\n",
       "  var JS_MIME_TYPE = 'application/javascript';\n",
       "  var HTML_MIME_TYPE = 'text/html';\n",
       "  var EXEC_MIME_TYPE = 'application/vnd.bokehjs_exec.v0+json';\n",
       "  var CLASS_NAME = 'output_bokeh rendered_html';\n",
       "\n",
       "  /**\n",
       "   * Render data to the DOM node\n",
       "   */\n",
       "  function render(props, node) {\n",
       "    var script = document.createElement(\"script\");\n",
       "    node.appendChild(script);\n",
       "  }\n",
       "\n",
       "  /**\n",
       "   * Handle when an output is cleared or removed\n",
       "   */\n",
       "  function handleClearOutput(event, handle) {\n",
       "    var cell = handle.cell;\n",
       "\n",
       "    var id = cell.output_area._bokeh_element_id;\n",
       "    var server_id = cell.output_area._bokeh_server_id;\n",
       "    // Clean up Bokeh references\n",
       "    if (id != null && id in Bokeh.index) {\n",
       "      Bokeh.index[id].model.document.clear();\n",
       "      delete Bokeh.index[id];\n",
       "    }\n",
       "\n",
       "    if (server_id !== undefined) {\n",
       "      // Clean up Bokeh references\n",
       "      var cmd = \"from bokeh.io.state import curstate; print(curstate().uuid_to_server['\" + server_id + \"'].get_sessions()[0].document.roots[0]._id)\";\n",
       "      cell.notebook.kernel.execute(cmd, {\n",
       "        iopub: {\n",
       "          output: function(msg) {\n",
       "            var id = msg.content.text.trim();\n",
       "            if (id in Bokeh.index) {\n",
       "              Bokeh.index[id].model.document.clear();\n",
       "              delete Bokeh.index[id];\n",
       "            }\n",
       "          }\n",
       "        }\n",
       "      });\n",
       "      // Destroy server and session\n",
       "      var cmd = \"import bokeh.io.notebook as ion; ion.destroy_server('\" + server_id + \"')\";\n",
       "      cell.notebook.kernel.execute(cmd);\n",
       "    }\n",
       "  }\n",
       "\n",
       "  /**\n",
       "   * Handle when a new output is added\n",
       "   */\n",
       "  function handleAddOutput(event, handle) {\n",
       "    var output_area = handle.output_area;\n",
       "    var output = handle.output;\n",
       "\n",
       "    // limit handleAddOutput to display_data with EXEC_MIME_TYPE content only\n",
       "    if ((output.output_type != \"display_data\") || (!output.data.hasOwnProperty(EXEC_MIME_TYPE))) {\n",
       "      return\n",
       "    }\n",
       "\n",
       "    var toinsert = output_area.element.find(\".\" + CLASS_NAME.split(' ')[0]);\n",
       "\n",
       "    if (output.metadata[EXEC_MIME_TYPE][\"id\"] !== undefined) {\n",
       "      toinsert[toinsert.length - 1].firstChild.textContent = output.data[JS_MIME_TYPE];\n",
       "      // store reference to embed id on output_area\n",
       "      output_area._bokeh_element_id = output.metadata[EXEC_MIME_TYPE][\"id\"];\n",
       "    }\n",
       "    if (output.metadata[EXEC_MIME_TYPE][\"server_id\"] !== undefined) {\n",
       "      var bk_div = document.createElement(\"div\");\n",
       "      bk_div.innerHTML = output.data[HTML_MIME_TYPE];\n",
       "      var script_attrs = bk_div.children[0].attributes;\n",
       "      for (var i = 0; i < script_attrs.length; i++) {\n",
       "        toinsert[toinsert.length - 1].firstChild.setAttribute(script_attrs[i].name, script_attrs[i].value);\n",
       "      }\n",
       "      // store reference to server id on output_area\n",
       "      output_area._bokeh_server_id = output.metadata[EXEC_MIME_TYPE][\"server_id\"];\n",
       "    }\n",
       "  }\n",
       "\n",
       "  function register_renderer(events, OutputArea) {\n",
       "\n",
       "    function append_mime(data, metadata, element) {\n",
       "      // create a DOM node to render to\n",
       "      var toinsert = this.create_output_subarea(\n",
       "        metadata,\n",
       "        CLASS_NAME,\n",
       "        EXEC_MIME_TYPE\n",
       "      );\n",
       "      this.keyboard_manager.register_events(toinsert);\n",
       "      // Render to node\n",
       "      var props = {data: data, metadata: metadata[EXEC_MIME_TYPE]};\n",
       "      render(props, toinsert[toinsert.length - 1]);\n",
       "      element.append(toinsert);\n",
       "      return toinsert\n",
       "    }\n",
       "\n",
       "    /* Handle when an output is cleared or removed */\n",
       "    events.on('clear_output.CodeCell', handleClearOutput);\n",
       "    events.on('delete.Cell', handleClearOutput);\n",
       "\n",
       "    /* Handle when a new output is added */\n",
       "    events.on('output_added.OutputArea', handleAddOutput);\n",
       "\n",
       "    /**\n",
       "     * Register the mime type and append_mime function with output_area\n",
       "     */\n",
       "    OutputArea.prototype.register_mime_type(EXEC_MIME_TYPE, append_mime, {\n",
       "      /* Is output safe? */\n",
       "      safe: true,\n",
       "      /* Index of renderer in `output_area.display_order` */\n",
       "      index: 0\n",
       "    });\n",
       "  }\n",
       "\n",
       "  // register the mime type if in Jupyter Notebook environment and previously unregistered\n",
       "  if (root.Jupyter !== undefined) {\n",
       "    var events = require('base/js/events');\n",
       "    var OutputArea = require('notebook/js/outputarea').OutputArea;\n",
       "\n",
       "    if (OutputArea.prototype.mime_types().indexOf(EXEC_MIME_TYPE) == -1) {\n",
       "      register_renderer(events, OutputArea);\n",
       "    }\n",
       "  }\n",
       "\n",
       "  \n",
       "  if (typeof (root._bokeh_timeout) === \"undefined\" || force === true) {\n",
       "    root._bokeh_timeout = Date.now() + 5000;\n",
       "    root._bokeh_failed_load = false;\n",
       "  }\n",
       "\n",
       "  var NB_LOAD_WARNING = {'data': {'text/html':\n",
       "     \"<div style='background-color: #fdd'>\\n\"+\n",
       "     \"<p>\\n\"+\n",
       "     \"BokehJS does not appear to have successfully loaded. If loading BokehJS from CDN, this \\n\"+\n",
       "     \"may be due to a slow or bad network connection. Possible fixes:\\n\"+\n",
       "     \"</p>\\n\"+\n",
       "     \"<ul>\\n\"+\n",
       "     \"<li>re-rerun `output_notebook()` to attempt to load from CDN again, or</li>\\n\"+\n",
       "     \"<li>use INLINE resources instead, as so:</li>\\n\"+\n",
       "     \"</ul>\\n\"+\n",
       "     \"<code>\\n\"+\n",
       "     \"from bokeh.resources import INLINE\\n\"+\n",
       "     \"output_notebook(resources=INLINE)\\n\"+\n",
       "     \"</code>\\n\"+\n",
       "     \"</div>\"}};\n",
       "\n",
       "  function display_loaded() {\n",
       "    var el = document.getElementById(\"1002\");\n",
       "    if (el != null) {\n",
       "      el.textContent = \"BokehJS is loading...\";\n",
       "    }\n",
       "    if (root.Bokeh !== undefined) {\n",
       "      if (el != null) {\n",
       "        el.textContent = \"BokehJS \" + root.Bokeh.version + \" successfully loaded.\";\n",
       "      }\n",
       "    } else if (Date.now() < root._bokeh_timeout) {\n",
       "      setTimeout(display_loaded, 100)\n",
       "    }\n",
       "  }\n",
       "\n",
       "\n",
       "  function run_callbacks() {\n",
       "    try {\n",
       "      root._bokeh_onload_callbacks.forEach(function(callback) { callback() });\n",
       "    }\n",
       "    finally {\n",
       "      delete root._bokeh_onload_callbacks\n",
       "    }\n",
       "    console.info(\"Bokeh: all callbacks have finished\");\n",
       "  }\n",
       "\n",
       "  function load_libs(js_urls, callback) {\n",
       "    root._bokeh_onload_callbacks.push(callback);\n",
       "    if (root._bokeh_is_loading > 0) {\n",
       "      console.log(\"Bokeh: BokehJS is being loaded, scheduling callback at\", now());\n",
       "      return null;\n",
       "    }\n",
       "    if (js_urls == null || js_urls.length === 0) {\n",
       "      run_callbacks();\n",
       "      return null;\n",
       "    }\n",
       "    console.log(\"Bokeh: BokehJS not loaded, scheduling load and callback at\", now());\n",
       "    root._bokeh_is_loading = js_urls.length;\n",
       "    for (var i = 0; i < js_urls.length; i++) {\n",
       "      var url = js_urls[i];\n",
       "      var s = document.createElement('script');\n",
       "      s.src = url;\n",
       "      s.async = false;\n",
       "      s.onreadystatechange = s.onload = function() {\n",
       "        root._bokeh_is_loading--;\n",
       "        if (root._bokeh_is_loading === 0) {\n",
       "          console.log(\"Bokeh: all BokehJS libraries loaded\");\n",
       "          run_callbacks()\n",
       "        }\n",
       "      };\n",
       "      s.onerror = function() {\n",
       "        console.warn(\"failed to load library \" + url);\n",
       "      };\n",
       "      console.log(\"Bokeh: injecting script tag for BokehJS library: \", url);\n",
       "      document.getElementsByTagName(\"head\")[0].appendChild(s);\n",
       "    }\n",
       "  };var element = document.getElementById(\"1002\");\n",
       "  if (element == null) {\n",
       "    console.log(\"Bokeh: ERROR: autoload.js configured with elementid '1002' but no matching script tag was found. \")\n",
       "    return false;\n",
       "  }\n",
       "\n",
       "  var js_urls = [\"https://cdn.pydata.org/bokeh/release/bokeh-1.0.4.min.js\", \"https://cdn.pydata.org/bokeh/release/bokeh-widgets-1.0.4.min.js\", \"https://cdn.pydata.org/bokeh/release/bokeh-tables-1.0.4.min.js\", \"https://cdn.pydata.org/bokeh/release/bokeh-gl-1.0.4.min.js\"];\n",
       "\n",
       "  var inline_js = [\n",
       "    function(Bokeh) {\n",
       "      Bokeh.set_log_level(\"info\");\n",
       "    },\n",
       "    \n",
       "    function(Bokeh) {\n",
       "      \n",
       "    },\n",
       "    function(Bokeh) {\n",
       "      console.log(\"Bokeh: injecting CSS: https://cdn.pydata.org/bokeh/release/bokeh-1.0.4.min.css\");\n",
       "      Bokeh.embed.inject_css(\"https://cdn.pydata.org/bokeh/release/bokeh-1.0.4.min.css\");\n",
       "      console.log(\"Bokeh: injecting CSS: https://cdn.pydata.org/bokeh/release/bokeh-widgets-1.0.4.min.css\");\n",
       "      Bokeh.embed.inject_css(\"https://cdn.pydata.org/bokeh/release/bokeh-widgets-1.0.4.min.css\");\n",
       "      console.log(\"Bokeh: injecting CSS: https://cdn.pydata.org/bokeh/release/bokeh-tables-1.0.4.min.css\");\n",
       "      Bokeh.embed.inject_css(\"https://cdn.pydata.org/bokeh/release/bokeh-tables-1.0.4.min.css\");\n",
       "    }\n",
       "  ];\n",
       "\n",
       "  function run_inline_js() {\n",
       "    \n",
       "    if ((root.Bokeh !== undefined) || (force === true)) {\n",
       "      for (var i = 0; i < inline_js.length; i++) {\n",
       "        inline_js[i].call(root, root.Bokeh);\n",
       "      }if (force === true) {\n",
       "        display_loaded();\n",
       "      }} else if (Date.now() < root._bokeh_timeout) {\n",
       "      setTimeout(run_inline_js, 100);\n",
       "    } else if (!root._bokeh_failed_load) {\n",
       "      console.log(\"Bokeh: BokehJS failed to load within specified timeout.\");\n",
       "      root._bokeh_failed_load = true;\n",
       "    } else if (force !== true) {\n",
       "      var cell = $(document.getElementById(\"1002\")).parents('.cell').data().cell;\n",
       "      cell.output_area.append_execute_result(NB_LOAD_WARNING)\n",
       "    }\n",
       "\n",
       "  }\n",
       "\n",
       "  if (root._bokeh_is_loading === 0) {\n",
       "    console.log(\"Bokeh: BokehJS loaded, going straight to plotting\");\n",
       "    run_inline_js();\n",
       "  } else {\n",
       "    load_libs(js_urls, function() {\n",
       "      console.log(\"Bokeh: BokehJS plotting callback run at\", now());\n",
       "      run_inline_js();\n",
       "    });\n",
       "  }\n",
       "}(window));"
      ],
      "application/vnd.bokehjs_load.v0+json": "\n(function(root) {\n  function now() {\n    return new Date();\n  }\n\n  var force = true;\n\n  if (typeof (root._bokeh_onload_callbacks) === \"undefined\" || force === true) {\n    root._bokeh_onload_callbacks = [];\n    root._bokeh_is_loading = undefined;\n  }\n\n  \n\n  \n  if (typeof (root._bokeh_timeout) === \"undefined\" || force === true) {\n    root._bokeh_timeout = Date.now() + 5000;\n    root._bokeh_failed_load = false;\n  }\n\n  var NB_LOAD_WARNING = {'data': {'text/html':\n     \"<div style='background-color: #fdd'>\\n\"+\n     \"<p>\\n\"+\n     \"BokehJS does not appear to have successfully loaded. If loading BokehJS from CDN, this \\n\"+\n     \"may be due to a slow or bad network connection. Possible fixes:\\n\"+\n     \"</p>\\n\"+\n     \"<ul>\\n\"+\n     \"<li>re-rerun `output_notebook()` to attempt to load from CDN again, or</li>\\n\"+\n     \"<li>use INLINE resources instead, as so:</li>\\n\"+\n     \"</ul>\\n\"+\n     \"<code>\\n\"+\n     \"from bokeh.resources import INLINE\\n\"+\n     \"output_notebook(resources=INLINE)\\n\"+\n     \"</code>\\n\"+\n     \"</div>\"}};\n\n  function display_loaded() {\n    var el = document.getElementById(\"1002\");\n    if (el != null) {\n      el.textContent = \"BokehJS is loading...\";\n    }\n    if (root.Bokeh !== undefined) {\n      if (el != null) {\n        el.textContent = \"BokehJS \" + root.Bokeh.version + \" successfully loaded.\";\n      }\n    } else if (Date.now() < root._bokeh_timeout) {\n      setTimeout(display_loaded, 100)\n    }\n  }\n\n\n  function run_callbacks() {\n    try {\n      root._bokeh_onload_callbacks.forEach(function(callback) { callback() });\n    }\n    finally {\n      delete root._bokeh_onload_callbacks\n    }\n    console.info(\"Bokeh: all callbacks have finished\");\n  }\n\n  function load_libs(js_urls, callback) {\n    root._bokeh_onload_callbacks.push(callback);\n    if (root._bokeh_is_loading > 0) {\n      console.log(\"Bokeh: BokehJS is being loaded, scheduling callback at\", now());\n      return null;\n    }\n    if (js_urls == null || js_urls.length === 0) {\n      run_callbacks();\n      return null;\n    }\n    console.log(\"Bokeh: BokehJS not loaded, scheduling load and callback at\", now());\n    root._bokeh_is_loading = js_urls.length;\n    for (var i = 0; i < js_urls.length; i++) {\n      var url = js_urls[i];\n      var s = document.createElement('script');\n      s.src = url;\n      s.async = false;\n      s.onreadystatechange = s.onload = function() {\n        root._bokeh_is_loading--;\n        if (root._bokeh_is_loading === 0) {\n          console.log(\"Bokeh: all BokehJS libraries loaded\");\n          run_callbacks()\n        }\n      };\n      s.onerror = function() {\n        console.warn(\"failed to load library \" + url);\n      };\n      console.log(\"Bokeh: injecting script tag for BokehJS library: \", url);\n      document.getElementsByTagName(\"head\")[0].appendChild(s);\n    }\n  };var element = document.getElementById(\"1002\");\n  if (element == null) {\n    console.log(\"Bokeh: ERROR: autoload.js configured with elementid '1002' but no matching script tag was found. \")\n    return false;\n  }\n\n  var js_urls = [\"https://cdn.pydata.org/bokeh/release/bokeh-1.0.4.min.js\", \"https://cdn.pydata.org/bokeh/release/bokeh-widgets-1.0.4.min.js\", \"https://cdn.pydata.org/bokeh/release/bokeh-tables-1.0.4.min.js\", \"https://cdn.pydata.org/bokeh/release/bokeh-gl-1.0.4.min.js\"];\n\n  var inline_js = [\n    function(Bokeh) {\n      Bokeh.set_log_level(\"info\");\n    },\n    \n    function(Bokeh) {\n      \n    },\n    function(Bokeh) {\n      console.log(\"Bokeh: injecting CSS: https://cdn.pydata.org/bokeh/release/bokeh-1.0.4.min.css\");\n      Bokeh.embed.inject_css(\"https://cdn.pydata.org/bokeh/release/bokeh-1.0.4.min.css\");\n      console.log(\"Bokeh: injecting CSS: https://cdn.pydata.org/bokeh/release/bokeh-widgets-1.0.4.min.css\");\n      Bokeh.embed.inject_css(\"https://cdn.pydata.org/bokeh/release/bokeh-widgets-1.0.4.min.css\");\n      console.log(\"Bokeh: injecting CSS: https://cdn.pydata.org/bokeh/release/bokeh-tables-1.0.4.min.css\");\n      Bokeh.embed.inject_css(\"https://cdn.pydata.org/bokeh/release/bokeh-tables-1.0.4.min.css\");\n    }\n  ];\n\n  function run_inline_js() {\n    \n    if ((root.Bokeh !== undefined) || (force === true)) {\n      for (var i = 0; i < inline_js.length; i++) {\n        inline_js[i].call(root, root.Bokeh);\n      }if (force === true) {\n        display_loaded();\n      }} else if (Date.now() < root._bokeh_timeout) {\n      setTimeout(run_inline_js, 100);\n    } else if (!root._bokeh_failed_load) {\n      console.log(\"Bokeh: BokehJS failed to load within specified timeout.\");\n      root._bokeh_failed_load = true;\n    } else if (force !== true) {\n      var cell = $(document.getElementById(\"1002\")).parents('.cell').data().cell;\n      cell.output_area.append_execute_result(NB_LOAD_WARNING)\n    }\n\n  }\n\n  if (root._bokeh_is_loading === 0) {\n    console.log(\"Bokeh: BokehJS loaded, going straight to plotting\");\n    run_inline_js();\n  } else {\n    load_libs(js_urls, function() {\n      console.log(\"Bokeh: BokehJS plotting callback run at\", now());\n      run_inline_js();\n    });\n  }\n}(window));"
     },
     "metadata": {},
     "output_type": "display_data"
    }
   ],
   "source": [
    "import pandas as pd\n",
    "import numpy as np\n",
    "\n",
    "# import bokeh \n",
    "from IPython.display import display, Markdown\n",
    "from bokeh.plotting import figure, show, Figure\n",
    "from bokeh.models import ColumnDataSource, Label\n",
    "from bokeh.models import HoverTool\n",
    "from bokeh.models.glyphs import Text\n",
    "from bokeh.palettes import Spectral3\n",
    "from bokeh.layouts import row, column, gridplot\n",
    "import seaborn as sns\n",
    "import matplotlib.pylab as plt\n",
    "\n",
    "#from bokeh.io import output_file, show\n",
    "from bokeh.models import GeoJSONDataSource\n",
    "import bokeh.models as bmo\n",
    "\n",
    "from bokeh.sampledata.sample_geojson import geojson\n",
    "import bokeh.palettes as bp\n",
    "\n",
    "# tell bokeh to show the figures in the notebook\n",
    "from bokeh.io import output_notebook\n",
    "output_notebook()\n",
    "#latest\n",
    "import pandas as pd\n",
    "import missingno as msno\n",
    "import warnings\n",
    "warnings.filterwarnings('ignore')\n",
    "\n",
    "\n",
    "\n"
   ]
  },
  {
   "cell_type": "markdown",
   "metadata": {},
   "source": [
    "# Preprocessing of Data"
   ]
  },
  {
   "cell_type": "markdown",
   "metadata": {},
   "source": [
    "We need to clean the station data as there are data missing"
   ]
  },
  {
   "cell_type": "code",
   "execution_count": 27,
   "metadata": {},
   "outputs": [
    {
     "data": {
      "text/plain": [
       "<matplotlib.axes._subplots.AxesSubplot at 0x7fdc20eea128>"
      ]
     },
     "execution_count": 27,
     "metadata": {},
     "output_type": "execute_result"
    },
    {
     "data": {
      "image/png": "[encoded data removed]",
      "text/plain": [
       "<Figure size 1800x720 with 2 Axes>"
      ]
     },
     "metadata": {
      "needs_background": "light"
     },
     "output_type": "display_data"
    },
    {
     "data": {
      "image/png": "[encoded data removed]",
      "text/plain": [
       "<Figure size 1800x720 with 2 Axes>"
      ]
     },
     "metadata": {
      "needs_background": "light"
     },
     "output_type": "display_data"
    }
   ],
   "source": [
    "prices = pd.read_csv('example_sprit_cut_prices.csv', sep=';')\n",
    "msno.matrix(prices)\n",
    "#print(prices.head())\n",
    "\n",
    "station = pd.read_csv('example_sprit_cut_station.csv', sep=';')\n",
    "station.rename(columns={'ID':'STID'}, inplace=True)\n",
    "msno.matrix(station)\n",
    "#print(station.head())\n",
    "#station.info()"
   ]
  },
  {
   "cell_type": "markdown",
   "metadata": {},
   "source": [
    "# Data Cleaning:"
   ]
  },
  {
   "cell_type": "code",
   "execution_count": 28,
   "metadata": {},
   "outputs": [
    {
     "data": {
      "text/plain": [
       "array(['ARAL', 'JET', 'Supermarkt Tankstelle', 'Tankhof Iffezheim',\n",
       "       'Schiffer & Nicklaus GmbH', 'Sefrin Heizöl & Kraftstoffe', 'bft',\n",
       "       'Markant', 'AVIA', 'Bft', 'Freie Tankstelle',\n",
       "       'AUTO ZOTZ Landau in der Pfalz   Tanken und waschen', 'HEM',\n",
       "       'Fritz Walter GmbH', 'TAMOIL', 'rnt', 'Schuster & Sohn KG',\n",
       "       'Raiffeisen Tankstelle', 'E Center', 'Eberhardt', 'BFT', 'Agip',\n",
       "       'Winkler', 'Mr. Wash Autoservice AG', 'ESSO',\n",
       "       'ZG Raiffeisen Energie', 'freie Tankstelle', 'CLASSIC', 'Shell',\n",
       "       'Preis', 'mtb', 'Tankcenter', 'TS ARNT', 'frei', 'OMV',\n",
       "       'Frühmesser GmbH', 'OIL!', 'SB Markt', 'SB', 'TOTAL', 'ED',\n",
       "       'SB-Markttankstelle',\n",
       "       'AUTO ZOTZ Herxheim b.LD.       Tanken an L.493', 'Total',\n",
       "       'Markenfreie TS', 'TOP', 'T', 'ELAN', 'Tankstelle Heinz'],\n",
       "      dtype=object)"
      ]
     },
     "execution_count": 28,
     "metadata": {},
     "output_type": "execute_result"
    }
   ],
   "source": [
    "import numpy as np\n",
    "#remove all unimportant columns from station dataframe  \n",
    "to_drop = ['HOUSE_NUMBER','PUBLIC_HOLIDAY_IDENTIFIER']\n",
    "station.drop(to_drop, inplace=True, axis=1)\n",
    "station.drop_duplicates(keep=False)\n",
    "station.fillna(0, inplace=True)\n",
    "\n",
    "    \n",
    "#ms.matrix(station)\n",
    "#station = station.replace('', np.nan, inplace=True)\n",
    "station.fillna(value='UNKNOWN')\n",
    "\n",
    "#removing non active brands\n",
    "station = station[station['POST_CODE'] != 'nicht']\n",
    "#station.loc[station['POST_CODE'] == 'nicht']\n",
    "station.replace('\\\\N', 'UNKNOWN', inplace=True)\n",
    "#station.replace(0, 'UNKNOWN', inplace=True)\n",
    "\n",
    "station.loc[station['BRAND'] == 'UNKNOWN']\n",
    "station['POST_CODE'] = station['POST_CODE'].replace('UNKNOWN', '0')\n",
    "#print(station['POST_CODE'].unique())\n",
    "station['VERSION_TIME']= pd.to_datetime(station['VERSION_TIME']) \n",
    "prices['DATE_CHANGED']= pd.to_datetime(prices['DATE_CHANGED']) \n",
    "station['LAT'] = station['LAT'].astype(float)\n",
    "station['LNG'] = station['LNG'].astype(float)\n",
    "station = station[station.BRAND != 0]\n",
    "station = station[station.BRAND != 'UNKNOWN']\n",
    "station.replace({'BRAND' : { '^Auto Zotz.*' : 'Auto Zotz', \n",
    "                                           '^Frei.*' : 'Freie Tankstelle',\n",
    "                                           '^Raiffeisen.*' : 'Raiffeisen Tankstelle',\n",
    "                                           '^Sb.*' : 'Sb Markt Tankstelle',\n",
    "                                           '^Supermarkt.*' : 'Supermarkt Tankstelle'\n",
    "                                            }},regex=True,inplace=True)\n",
    "\n",
    "station.replace({'BRAND' : { '^Autohaus Holz.*' : 'Autohaus Holz', \n",
    "                                           '^Eberhardt.*' : 'Eberhardt',\n",
    "                                           '^Globus Handelshof .*' : 'Globus Handelshof Gmbh & Co. Kg',\n",
    "                                           '^Sbk .*' : 'Sbk - Tankstelle',\n",
    "                                            }},regex=True,inplace=True)\n",
    "\n",
    "station['BRAND'].str.upper()\n",
    "\n",
    "station['BRAND'].unique()"
   ]
  },
  {
   "cell_type": "code",
   "execution_count": 29,
   "metadata": {},
   "outputs": [],
   "source": [
    "def remove_invalid_prices(fuel_name):\n",
    "    fuel_invalid=prices[prices[fuel_name]<=0]\n",
    "    prices.drop(fuel_invalid.index,axis=0,inplace=True)\n",
    "\n",
    "remove_invalid_prices('E5')\n",
    "remove_invalid_prices('E10')\n",
    "remove_invalid_prices('DIESEL')"
   ]
  },
  {
   "cell_type": "code",
   "execution_count": 30,
   "metadata": {},
   "outputs": [],
   "source": [
    "def normalise_data(fuel_name):\n",
    "    data_mean, data_std = prices[fuel_name].mean(), prices[fuel_name].std()\n",
    "    # identify outliers upto 3 standard deviations\n",
    "    cut_off = data_std * 3\n",
    "    lower, upper = data_mean - cut_off, data_mean + cut_off\n",
    "\n",
    "    prices[fuel_name]=np.where(np.logical_or(prices[fuel_name] <\n",
    "                                                lower,prices[fuel_name] > upper), \n",
    "                                  prices[fuel_name].median(), \n",
    "                                  prices[fuel_name])\n",
    "\n",
    "\n",
    "normalise_data('E5')\n",
    "normalise_data('E10')\n",
    "normalise_data('DIESEL')\n"
   ]
  },
  {
   "cell_type": "code",
   "execution_count": 31,
   "metadata": {},
   "outputs": [
    {
     "data": {
      "text/plain": [
       "<matplotlib.axes._subplots.AxesSubplot at 0x7fdc2ebe4160>"
      ]
     },
     "execution_count": 31,
     "metadata": {},
     "output_type": "execute_result"
    },
    {
     "data": {
      "image/png": "[encoded data removed]",
      "text/plain": [
       "<Figure size 1800x720 with 2 Axes>"
      ]
     },
     "metadata": {
      "needs_background": "light"
     },
     "output_type": "display_data"
    }
   ],
   "source": [
    "msno.matrix(station)"
   ]
  },
  {
   "cell_type": "markdown",
   "metadata": {},
   "source": [
    "data is clean."
   ]
  },
  {
   "cell_type": "code",
   "execution_count": 32,
   "metadata": {},
   "outputs": [],
   "source": [
    "#visualisation\n",
    "import datetime\n",
    "\n",
    "\n",
    "prices['DATE_CHANGED'] = pd.to_datetime(prices['DATE_CHANGED'])\n",
    "\n",
    "#station[['LAT', 'LNG','BRAND','NAME','VERSION_TIME']]\n",
    "#station['DAYS'] = currentDT -station['VERSION_TIME']\n",
    "#station[['LAT', 'LNG','BRAND','NAME','VERSION_TIME','DAYS']]"
   ]
  },
  {
   "cell_type": "code",
   "execution_count": 33,
   "metadata": {},
   "outputs": [
    {
     "name": "stdout",
     "output_type": "stream",
     "text": [
      "No of unique stations are387\n",
      "No of unique brands are49\n"
     ]
    },
    {
     "data": {
      "text/html": [
       "<div>\n",
       "<style scoped>\n",
       "    .dataframe tbody tr th:only-of-type {\n",
       "        vertical-align: middle;\n",
       "    }\n",
       "\n",
       "    .dataframe tbody tr th {\n",
       "        vertical-align: top;\n",
       "    }\n",
       "\n",
       "    .dataframe thead th {\n",
       "        text-align: right;\n",
       "    }\n",
       "</style>\n",
       "<table border=\"1\" class=\"dataframe\">\n",
       "  <thead>\n",
       "    <tr style=\"text-align: right;\">\n",
       "      <th></th>\n",
       "      <th>index</th>\n",
       "      <th>STID</th>\n",
       "      <th>min</th>\n",
       "      <th>max</th>\n",
       "      <th>history_days</th>\n",
       "    </tr>\n",
       "  </thead>\n",
       "  <tbody>\n",
       "    <tr>\n",
       "      <th>7</th>\n",
       "      <td>7</td>\n",
       "      <td>033bce61-7584-45e7-94dd-952fd0b4899c</td>\n",
       "      <td>2014-06-08 09:50:01</td>\n",
       "      <td>2015-09-29 23:34:01</td>\n",
       "      <td>478.572222</td>\n",
       "    </tr>\n",
       "    <tr>\n",
       "      <th>88</th>\n",
       "      <td>88</td>\n",
       "      <td>446bb537-46ac-47b2-86e9-d8b8193f1285</td>\n",
       "      <td>2014-06-08 09:50:01</td>\n",
       "      <td>2015-09-29 23:34:01</td>\n",
       "      <td>478.572222</td>\n",
       "    </tr>\n",
       "    <tr>\n",
       "      <th>229</th>\n",
       "      <td>229</td>\n",
       "      <td>94179bf8-764e-4721-b261-62c7bd510995</td>\n",
       "      <td>2014-06-08 09:50:01</td>\n",
       "      <td>2015-09-29 23:34:01</td>\n",
       "      <td>478.572222</td>\n",
       "    </tr>\n",
       "    <tr>\n",
       "      <th>34</th>\n",
       "      <td>34</td>\n",
       "      <td>197a2371-2190-40c8-b899-67136a2cd51b</td>\n",
       "      <td>2014-06-08 09:50:01</td>\n",
       "      <td>2015-09-29 23:30:01</td>\n",
       "      <td>478.569444</td>\n",
       "    </tr>\n",
       "    <tr>\n",
       "      <th>85</th>\n",
       "      <td>85</td>\n",
       "      <td>41a91145-91f7-441b-8ff4-a46f5aff37cc</td>\n",
       "      <td>2014-06-08 09:50:01</td>\n",
       "      <td>2015-09-29 23:30:01</td>\n",
       "      <td>478.569444</td>\n",
       "    </tr>\n",
       "  </tbody>\n",
       "</table>\n",
       "</div>"
      ],
      "text/plain": [
       "     index                                  STID                 min  \\\n",
       "7        7  033bce61-7584-45e7-94dd-952fd0b4899c 2014-06-08 09:50:01   \n",
       "88      88  446bb537-46ac-47b2-86e9-d8b8193f1285 2014-06-08 09:50:01   \n",
       "229    229  94179bf8-764e-4721-b261-62c7bd510995 2014-06-08 09:50:01   \n",
       "34      34  197a2371-2190-40c8-b899-67136a2cd51b 2014-06-08 09:50:01   \n",
       "85      85  41a91145-91f7-441b-8ff4-a46f5aff37cc 2014-06-08 09:50:01   \n",
       "\n",
       "                    max  history_days  \n",
       "7   2015-09-29 23:34:01    478.572222  \n",
       "88  2015-09-29 23:34:01    478.572222  \n",
       "229 2015-09-29 23:34:01    478.572222  \n",
       "34  2015-09-29 23:30:01    478.569444  \n",
       "85  2015-09-29 23:30:01    478.569444  "
      ]
     },
     "execution_count": 33,
     "metadata": {},
     "output_type": "execute_result"
    }
   ],
   "source": [
    "\n",
    "merged_df= pd.merge(station,prices, on='STID')\n",
    "#print(merged_df.head())\n",
    "no_of_stations = merged_df.STID.nunique()\n",
    "no_of_brands = merged_df.BRAND.nunique()\n",
    "print('No of unique stations are%d'%no_of_stations)\n",
    "print('No of unique brands are%d'%no_of_brands)\n",
    "\n",
    "# brand_existence = merged_df.groupby('BRAND')['DATE_CHANGED']\n",
    "# brand_start=brand_existence.min().reset_index()\n",
    "# brand_end=brand_existence.max().reset_index()\n",
    "# # get brand history in days and \n",
    "# brand_history = (pd.to_datetime(brand_end['DATE_CHANGED'])-pd.to_datetime(brand_start['DATE_CHANGED'])).dt.days\n",
    "# brand_end['No of Days'] = brand_history\n",
    "history = merged_df.groupby(['STID']).DATE_CHANGED.agg([min,max]).reset_index()\n",
    "history['history_days'] = history['max']-history['min']\n",
    "history['history_days'] =history['history_days'] / np.timedelta64(1, 'D')\n",
    "history = history.reset_index().sort_values('history_days', ascending=False)\n",
    "top_100 = history['STID'][:3]\n",
    "#top_3 = history['STID'][:3]\n",
    "history.head(5)\n",
    "#print(top_100)"
   ]
  },
  {
   "cell_type": "code",
   "execution_count": 34,
   "metadata": {},
   "outputs": [],
   "source": [
    "def bar_chart(x,y,x_label,y_label):\n",
    "    \n",
    "\n",
    "    p = figure(x_range=x, plot_height=350,plot_width=800, \n",
    "           toolbar_location=None, tools=\"\")\n",
    "\n",
    "    p.vbar(x=x, top=y, width=0.3)\n",
    "    p.xgrid.grid_line_color = None\n",
    "    p.xaxis.axis_label = x_label\n",
    "    p.yaxis.axis_label = y_label\n",
    "    p.xaxis.major_label_orientation = 0.5\n",
    "    p.y_range.start = 0\n",
    "\n",
    "    show(p)"
   ]
  },
  {
   "cell_type": "code",
   "execution_count": 35,
   "metadata": {},
   "outputs": [],
   "source": [
    "#history = history.drop(history.index[0])\n",
    "#print(list(history['BRAND']))\n",
    "#bar_chart(list(history['STID']),history['history_days'],'STID','days')"
   ]
  },
  {
   "cell_type": "markdown",
   "metadata": {},
   "source": [
    "# Extract the top 100 gas stations with longest history"
   ]
  },
  {
   "cell_type": "code",
   "execution_count": 36,
   "metadata": {},
   "outputs": [
    {
     "data": {
      "text/html": [
       "<div>\n",
       "<style scoped>\n",
       "    .dataframe tbody tr th:only-of-type {\n",
       "        vertical-align: middle;\n",
       "    }\n",
       "\n",
       "    .dataframe tbody tr th {\n",
       "        vertical-align: top;\n",
       "    }\n",
       "\n",
       "    .dataframe thead th {\n",
       "        text-align: right;\n",
       "    }\n",
       "</style>\n",
       "<table border=\"1\" class=\"dataframe\">\n",
       "  <thead>\n",
       "    <tr style=\"text-align: right;\">\n",
       "      <th></th>\n",
       "      <th>STID</th>\n",
       "      <th>E5</th>\n",
       "      <th>E10</th>\n",
       "      <th>DIESEL</th>\n",
       "      <th>DATE_CHANGED</th>\n",
       "      <th>CHANGED</th>\n",
       "      <th>HR</th>\n",
       "      <th>date</th>\n",
       "    </tr>\n",
       "  </thead>\n",
       "  <tbody>\n",
       "    <tr>\n",
       "      <th>153382</th>\n",
       "      <td>94179bf8-764e-4721-b261-62c7bd510995</td>\n",
       "      <td>1299.0</td>\n",
       "      <td>1259.0</td>\n",
       "      <td>1179.0</td>\n",
       "      <td>2014-12-16 16:46:01</td>\n",
       "      <td>21</td>\n",
       "      <td>16</td>\n",
       "      <td>2014-12-16</td>\n",
       "    </tr>\n",
       "    <tr>\n",
       "      <th>153383</th>\n",
       "      <td>94179bf8-764e-4721-b261-62c7bd510995</td>\n",
       "      <td>1289.0</td>\n",
       "      <td>1249.0</td>\n",
       "      <td>1139.0</td>\n",
       "      <td>2014-12-17 15:22:01</td>\n",
       "      <td>20</td>\n",
       "      <td>15</td>\n",
       "      <td>2014-12-17</td>\n",
       "    </tr>\n",
       "    <tr>\n",
       "      <th>153389</th>\n",
       "      <td>94179bf8-764e-4721-b261-62c7bd510995</td>\n",
       "      <td>1459.0</td>\n",
       "      <td>1419.0</td>\n",
       "      <td>1319.0</td>\n",
       "      <td>2014-11-06 09:13:00</td>\n",
       "      <td>20</td>\n",
       "      <td>9</td>\n",
       "      <td>2014-11-06</td>\n",
       "    </tr>\n",
       "    <tr>\n",
       "      <th>153390</th>\n",
       "      <td>94179bf8-764e-4721-b261-62c7bd510995</td>\n",
       "      <td>1489.0</td>\n",
       "      <td>1449.0</td>\n",
       "      <td>1299.0</td>\n",
       "      <td>2014-11-06 09:49:00</td>\n",
       "      <td>21</td>\n",
       "      <td>9</td>\n",
       "      <td>2014-11-06</td>\n",
       "    </tr>\n",
       "    <tr>\n",
       "      <th>153391</th>\n",
       "      <td>94179bf8-764e-4721-b261-62c7bd510995</td>\n",
       "      <td>1489.0</td>\n",
       "      <td>1449.0</td>\n",
       "      <td>1309.0</td>\n",
       "      <td>2014-11-07 09:41:00</td>\n",
       "      <td>21</td>\n",
       "      <td>9</td>\n",
       "      <td>2014-11-07</td>\n",
       "    </tr>\n",
       "  </tbody>\n",
       "</table>\n",
       "</div>"
      ],
      "text/plain": [
       "                                        STID      E5     E10  DIESEL  \\\n",
       "153382  94179bf8-764e-4721-b261-62c7bd510995  1299.0  1259.0  1179.0   \n",
       "153383  94179bf8-764e-4721-b261-62c7bd510995  1289.0  1249.0  1139.0   \n",
       "153389  94179bf8-764e-4721-b261-62c7bd510995  1459.0  1419.0  1319.0   \n",
       "153390  94179bf8-764e-4721-b261-62c7bd510995  1489.0  1449.0  1299.0   \n",
       "153391  94179bf8-764e-4721-b261-62c7bd510995  1489.0  1449.0  1309.0   \n",
       "\n",
       "              DATE_CHANGED  CHANGED  HR        date  \n",
       "153382 2014-12-16 16:46:01       21  16  2014-12-16  \n",
       "153383 2014-12-17 15:22:01       20  15  2014-12-17  \n",
       "153389 2014-11-06 09:13:00       20   9  2014-11-06  \n",
       "153390 2014-11-06 09:49:00       21   9  2014-11-06  \n",
       "153391 2014-11-07 09:41:00       21   9  2014-11-07  "
      ]
     },
     "execution_count": 36,
     "metadata": {},
     "output_type": "execute_result"
    }
   ],
   "source": [
    "#extract the prices of only the top 100 stids\n",
    "top100_prices = prices[prices['STID'].isin(top_100)]\n",
    "\n",
    "top100_prices['HR'] = top100_prices['DATE_CHANGED'].map(\n",
    "    lambda x: x.hour\n",
    ")\n",
    "top100_prices['date'] = top100_prices['DATE_CHANGED'].map(\n",
    "    lambda x: x.date()\n",
    ")\n",
    "top100_prices.head()\n",
    "top100_prices = top100_prices[top100_prices['HR'].isin([7,8,9,10,11,12,13,14,15,16,17,18,19,20])]\n",
    "\n",
    "top100_prices.head(5)\n",
    "#top100_prices.describe()\n"
   ]
  },
  {
   "cell_type": "code",
   "execution_count": 37,
   "metadata": {},
   "outputs": [],
   "source": [
    "e5_data = top100_prices.copy()\n",
    "e5_data = e5_data.drop(labels = [\"E10\",'DIESEL'],axis = 1) \n",
    "\n",
    "e10_data = top100_prices.copy()\n",
    "e10_data = e10_data.drop(labels = [\"E5\",'DIESEL'],axis = 1) \n",
    "\n",
    "diesel_data = top100_prices.copy()\n",
    "diesel_data = diesel_data.drop(labels = [\"E5\",'E10'],axis = 1) \n",
    "\n",
    "diesel = diesel_data.groupby(['STID','date']).DIESEL.agg(['mean']).reset_index()\n",
    "e5 = e5_data.groupby(['STID','date']).E5.agg(['mean']).reset_index()\n",
    "e10 = e10_data.groupby(['STID','date']).E10.agg(['mean']).reset_index()\n",
    "\n",
    "e5.insert(0, 'index', range(0, 0 + len(e5)))\n",
    "e10.insert(0, 'index', range(0, 0 + len(e10)))\n",
    "diesel.insert(0, 'index', range(0, 0 + len(diesel)))\n",
    "#print(diesel.head())"
   ]
  },
  {
   "cell_type": "code",
   "execution_count": 38,
   "metadata": {},
   "outputs": [],
   "source": [
    "def line(x,y,x_label,y_label):\n",
    "    \n",
    "    p = figure(plot_width=600, plot_height=400)\n",
    "\n",
    "    \n",
    "    # add a line renderer\n",
    "    p.xaxis.axis_label = x_label\n",
    "    p.yaxis.axis_label = y_label\n",
    "    p.line(x, y, line_width=2)\n",
    "\n",
    "    show(p)"
   ]
  },
  {
   "cell_type": "code",
   "execution_count": 76,
   "metadata": {},
   "outputs": [],
   "source": [
    "def rolling_average(train,test):\n",
    "    train = np.array(train)\n",
    "    test = test.values\n",
    "    mean  = train.mean()\n",
    "    loss = abs(mean - test)\n",
    "    return loss,mean"
   ]
  },
  {
   "cell_type": "code",
   "execution_count": 40,
   "metadata": {},
   "outputs": [],
   "source": [
    "e5_train, e5_test = np.split(e5, [int(.75*len(e5))])"
   ]
  },
  {
   "cell_type": "code",
   "execution_count": 41,
   "metadata": {},
   "outputs": [
    {
     "name": "stdout",
     "output_type": "stream",
     "text": [
      "1075\n"
     ]
    }
   ],
   "source": [
    "print(len(e5_train))"
   ]
  },
  {
   "cell_type": "code",
   "execution_count": 42,
   "metadata": {},
   "outputs": [],
   "source": [
    "from statistics import mean "
   ]
  },
  {
   "cell_type": "code",
   "execution_count": 43,
   "metadata": {},
   "outputs": [],
   "source": [
    "def train(X,Y):\n",
    "    count = 0\n",
    "    window_dict = {} \n",
    "    for train_index, test_index in tscv.split(e5_train):\n",
    "\n",
    "        train = e5_train.iloc[train_index]\n",
    "        test = e5_train.iloc[test_index]\n",
    "\n",
    "        #print(train_index, test_index)\n",
    "        train_start, train_end = train.iloc[0,0], train.iloc[-1,0]\n",
    "        test_start, test_end = test.iloc[0,0], test.iloc[-1,0]    \n",
    "        loss = []\n",
    "        for i in range(n-(len(train_index))):\n",
    "\n",
    "\n",
    "            #print(train_start, train_end)\n",
    "            #print(test_start)\n",
    "\n",
    "            X_train, X_test = X[train_start:train_end+1], X[test_start:test_end+1]\n",
    "            y_train, y_test = Y[train_start:train_end+1], Y[test_start:test_end+1]\n",
    "\n",
    "            iloss,mean = rolling_average(y_train,y_test)\n",
    "            #print('loss is',iloss)\n",
    "            loss.append(iloss[0])\n",
    "\n",
    "            train_start =train_start+1\n",
    "            train_end = train_end+1\n",
    "\n",
    "            test_start =test_start +1\n",
    "            test_end = test_end +1\n",
    "\n",
    "\n",
    "        #print(loss)\n",
    "        average_loss = mean(loss) \n",
    "        #print(average_loss)\n",
    "        window_dict[len(train_index)]  =  average_loss\n",
    "        \n",
    "    return window_dict  \n"
   ]
  },
  {
   "cell_type": "code",
   "execution_count": 77,
   "metadata": {},
   "outputs": [],
   "source": [
    "#Take window size of 3 and do prediction on test set\n",
    "def predict(window,df):\n",
    "    n = len(df['date'])\n",
    "    X = df['date']\n",
    "    Y = df['mean']\n",
    "    predicted_mean = []\n",
    "    \n",
    "    train_index = [i for i in range(window)]\n",
    "    test_index = [window]\n",
    "    \n",
    "    train = df.iloc[train_index]\n",
    "    test = df.iloc[test_index]\n",
    "    \n",
    "    #print(train_index, test_index)\n",
    "    train_start, train_end = train.iloc[0,0], train.iloc[-1,0]\n",
    "    test_start, test_end = test.iloc[0,0], test.iloc[-1,0]  \n",
    "    #print(Y[train_start:train_end+1])\n",
    "    \n",
    "    loss = []\n",
    "    for i in range(n-4):\n",
    "        X_train, X_test = X[train_start:train_end+1], X[test_start:test_end+1]\n",
    "        y_train, y_test = Y[train_start:train_end+1], Y[test_start:test_end+1]\n",
    "        #print(y_train)\n",
    "\n",
    "        iloss,mean = rolling_average(y_train,y_test)\n",
    "        predicted_mean.append(mean)\n",
    "        #print('loss is',iloss)\n",
    "        loss.append(iloss)\n",
    "\n",
    "        train_start =train_start+1\n",
    "        train_end = train_end+1\n",
    "\n",
    "        test_start =test_start +1\n",
    "        test_end = test_end +1\n",
    "\n",
    "    #print(loss)   \n",
    "    #test_loss = mean(loss) \n",
    "    return loss,predicted_mean\n"
   ]
  },
  {
   "cell_type": "markdown",
   "metadata": {},
   "source": [
    "# Creating Model for prediction and training"
   ]
  },
  {
   "cell_type": "markdown",
   "metadata": {},
   "source": [
    "Find the optimal window size"
   ]
  },
  {
   "cell_type": "code",
   "execution_count": 45,
   "metadata": {},
   "outputs": [],
   "source": [
    "from sklearn.model_selection import TimeSeriesSplit\n",
    "\n",
    "#use timeseries split to spit data\n",
    "n = len(e5_train['date'])\n",
    "\n",
    "X = e5_train['date']\n",
    "Y = e5_train['mean']\n",
    "\n",
    "tscv = TimeSeriesSplit(max_train_size=None, n_splits=n-1)\n",
    "window_dict = train(X,Y)\n",
    "\n",
    "x = list(window_dict.keys())\n",
    "y = list(window_dict.values())\n",
    "line([*window_dict],y,'window_size','loss')\n",
    "print('We found optimal size of window to be 3') \n",
    "\n"
   ]
  },
  {
   "cell_type": "code",
   "execution_count": 79,
   "metadata": {},
   "outputs": [
    {
     "name": "stdout",
     "output_type": "stream",
     "text": [
      "average loss for the test set is: 14.366273736696272\n",
      "355 359\n"
     ]
    }
   ],
   "source": [
    "\n",
    "e5_test.index = np.arange(0, len(e5_test))\n",
    "e5_test['index'] = np.arange(0, len(e5_test))\n",
    "#print(e5_test.head())\n",
    "loss,predicted_mean = predict(3,e5_test)\n",
    "\n",
    "x = np.array(loss).tolist()\n",
    "mean_loss = mean([i[0] for i in x])\n",
    "\n",
    "print('average loss for the test set is:', mean_loss)    \n",
    "#print(len(predicted_mean),len(e5_test))"
   ]
  },
  {
   "cell_type": "markdown",
   "metadata": {},
   "source": [
    "probability distribution curve for loss "
   ]
  },
  {
   "cell_type": "code",
   "execution_count": 91,
   "metadata": {},
   "outputs": [
    {
     "data": {
      "image/png": "[encoded data removed]",
      "text/plain": [
       "<Figure size 432x288 with 1 Axes>"
      ]
     },
     "metadata": {
      "needs_background": "light"
     },
     "output_type": "display_data"
    }
   ],
   "source": [
    "#pdc for loss\n",
    "mu, sigma = 0, 0.1\n",
    "count, bins, ignored = plt.hist([i[0] for i in x], 20, normed=True)\n",
    "plt.plot(bins, 1/(sigma * np.sqrt(2 * np.pi)) * np.exp( - (bins - mu)**2 / (2 * sigma**2) ),linewidth=2, color='r')\n",
    "plt.show()"
   ]
  },
  {
   "cell_type": "markdown",
   "metadata": {},
   "source": [
    "# plot line chart to show the variation between predicted and actual mean"
   ]
  },
  {
   "cell_type": "code",
   "execution_count": 88,
   "metadata": {},
   "outputs": [
    {
     "data": {
      "text/plain": [
       "<matplotlib.axes._subplots.AxesSubplot at 0x7fdc31d92fd0>"
      ]
     },
     "execution_count": 88,
     "metadata": {},
     "output_type": "execute_result"
    },
    {
     "data": {
      "image/png": "[encoded data removed]",
      "text/plain": [
       "<Figure size 432x288 with 1 Axes>"
      ]
     },
     "metadata": {
      "needs_background": "light"
     },
     "output_type": "display_data"
    }
   ],
   "source": [
    "import seaborn as sns\n",
    "# print(len(predicted_mean))\n",
    "# print(len())  \n",
    "data_preproc = pd.DataFrame({\n",
    "    'Duration': range(len(predicted_mean)), \n",
    "    'test_set': e5_test['mean'][4:],\n",
    "    'predicted_set': predicted_mean,\n",
    "    })\n",
    "sns.lineplot(x='Duration', y='value', hue='variable', \n",
    "             data=pd.melt(data_preproc, ['Duration']))"
   ]
  },
  {
   "cell_type": "code",
   "execution_count": null,
   "metadata": {},
   "outputs": [],
   "source": [
    "Window size 3 gave good predictions."
   ]
  },
  {
   "cell_type": "markdown",
   "metadata": {},
   "source": [
    "# Future prediction based on model"
   ]
  },
  {
   "cell_type": "code",
   "execution_count": null,
   "metadata": {},
   "outputs": [],
   "source": [
    "\n",
    "    "
   ]
  }
 ],
 "metadata": {
  "kernelspec": {
   "display_name": "Python 3",
   "language": "python",
   "name": "python3"
  },
  "language_info": {
   "codemirror_mode": {
    "name": "ipython",
    "version": 3
   },
   "file_extension": ".py",
   "mimetype": "text/x-python",
   "name": "python",
   "nbconvert_exporter": "python",
   "pygments_lexer": "ipython3",
   "version": "3.7.3"
  }
 },
 "nbformat": 4,
 "nbformat_minor": 2
}
