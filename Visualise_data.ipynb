{
 "cells": [
  {
   "cell_type": "markdown",
   "metadata": {},
   "source": [
    "# Exercise 1:Analysis of Gasoline Prices\n",
    "\n",
    "Name:Niharika Kumari"
   ]
  },
  {
   "cell_type": "code",
   "execution_count": 1,
   "metadata": {},
   "outputs": [
    {
     "data": {
      "text/html": [
       "\n",
       "    <div class=\"bk-root\">\n",
       "        <a href=\"https://bokeh.pydata.org\" target=\"_blank\" class=\"bk-logo bk-logo-small bk-logo-notebook\"></a>\n",
       "        <span id=\"e1fe621f-f97d-499c-b1e0-d2f7a0ab2578\">Loading BokehJS ...</span>\n",
       "    </div>"
      ]
     },
     "metadata": {},
     "output_type": "display_data"
    },
    {
     "data": {
      "application/javascript": [
       "\n",
       "(function(root) {\n",
       "  function now() {\n",
       "    return new Date();\n",
       "  }\n",
       "\n",
       "  var force = true;\n",
       "\n",
       "  if (typeof (root._bokeh_onload_callbacks) === \"undefined\" || force === true) {\n",
       "    root._bokeh_onload_callbacks = [];\n",
       "    root._bokeh_is_loading = undefined;\n",
       "  }\n",
       "\n",
       "  var JS_MIME_TYPE = 'application/javascript';\n",
       "  var HTML_MIME_TYPE = 'text/html';\n",
       "  var EXEC_MIME_TYPE = 'application/vnd.bokehjs_exec.v0+json';\n",
       "  var CLASS_NAME = 'output_bokeh rendered_html';\n",
       "\n",
       "  /**\n",
       "   * Render data to the DOM node\n",
       "   */\n",
       "  function render(props, node) {\n",
       "    var script = document.createElement(\"script\");\n",
       "    node.appendChild(script);\n",
       "  }\n",
       "\n",
       "  /**\n",
       "   * Handle when an output is cleared or removed\n",
       "   */\n",
       "  function handleClearOutput(event, handle) {\n",
       "    var cell = handle.cell;\n",
       "\n",
       "    var id = cell.output_area._bokeh_element_id;\n",
       "    var server_id = cell.output_area._bokeh_server_id;\n",
       "    // Clean up Bokeh references\n",
       "    if (id != null && id in Bokeh.index) {\n",
       "      Bokeh.index[id].model.document.clear();\n",
       "      delete Bokeh.index[id];\n",
       "    }\n",
       "\n",
       "    if (server_id !== undefined) {\n",
       "      // Clean up Bokeh references\n",
       "      var cmd = \"from bokeh.io.state import curstate; print(curstate().uuid_to_server['\" + server_id + \"'].get_sessions()[0].document.roots[0]._id)\";\n",
       "      cell.notebook.kernel.execute(cmd, {\n",
       "        iopub: {\n",
       "          output: function(msg) {\n",
       "            var id = msg.content.text.trim();\n",
       "            if (id in Bokeh.index) {\n",
       "              Bokeh.index[id].model.document.clear();\n",
       "              delete Bokeh.index[id];\n",
       "            }\n",
       "          }\n",
       "        }\n",
       "      });\n",
       "      // Destroy server and session\n",
       "      var cmd = \"import bokeh.io.notebook as ion; ion.destroy_server('\" + server_id + \"')\";\n",
       "      cell.notebook.kernel.execute(cmd);\n",
       "    }\n",
       "  }\n",
       "\n",
       "  /**\n",
       "   * Handle when a new output is added\n",
       "   */\n",
       "  function handleAddOutput(event, handle) {\n",
       "    var output_area = handle.output_area;\n",
       "    var output = handle.output;\n",
       "\n",
       "    // limit handleAddOutput to display_data with EXEC_MIME_TYPE content only\n",
       "    if ((output.output_type != \"display_data\") || (!output.data.hasOwnProperty(EXEC_MIME_TYPE))) {\n",
       "      return\n",
       "    }\n",
       "\n",
       "    var toinsert = output_area.element.find(\".\" + CLASS_NAME.split(' ')[0]);\n",
       "\n",
       "    if (output.metadata[EXEC_MIME_TYPE][\"id\"] !== undefined) {\n",
       "      toinsert[toinsert.length - 1].firstChild.textContent = output.data[JS_MIME_TYPE];\n",
       "      // store reference to embed id on output_area\n",
       "      output_area._bokeh_element_id = output.metadata[EXEC_MIME_TYPE][\"id\"];\n",
       "    }\n",
       "    if (output.metadata[EXEC_MIME_TYPE][\"server_id\"] !== undefined) {\n",
       "      var bk_div = document.createElement(\"div\");\n",
       "      bk_div.innerHTML = output.data[HTML_MIME_TYPE];\n",
       "      var script_attrs = bk_div.children[0].attributes;\n",
       "      for (var i = 0; i < script_attrs.length; i++) {\n",
       "        toinsert[toinsert.length - 1].firstChild.setAttribute(script_attrs[i].name, script_attrs[i].value);\n",
       "      }\n",
       "      // store reference to server id on output_area\n",
       "      output_area._bokeh_server_id = output.metadata[EXEC_MIME_TYPE][\"server_id\"];\n",
       "    }\n",
       "  }\n",
       "\n",
       "  function register_renderer(events, OutputArea) {\n",
       "\n",
       "    function append_mime(data, metadata, element) {\n",
       "      // create a DOM node to render to\n",
       "      var toinsert = this.create_output_subarea(\n",
       "        metadata,\n",
       "        CLASS_NAME,\n",
       "        EXEC_MIME_TYPE\n",
       "      );\n",
       "      this.keyboard_manager.register_events(toinsert);\n",
       "      // Render to node\n",
       "      var props = {data: data, metadata: metadata[EXEC_MIME_TYPE]};\n",
       "      render(props, toinsert[toinsert.length - 1]);\n",
       "      element.append(toinsert);\n",
       "      return toinsert\n",
       "    }\n",
       "\n",
       "    /* Handle when an output is cleared or removed */\n",
       "    events.on('clear_output.CodeCell', handleClearOutput);\n",
       "    events.on('delete.Cell', handleClearOutput);\n",
       "\n",
       "    /* Handle when a new output is added */\n",
       "    events.on('output_added.OutputArea', handleAddOutput);\n",
       "\n",
       "    /**\n",
       "     * Register the mime type and append_mime function with output_area\n",
       "     */\n",
       "    OutputArea.prototype.register_mime_type(EXEC_MIME_TYPE, append_mime, {\n",
       "      /* Is output safe? */\n",
       "      safe: true,\n",
       "      /* Index of renderer in `output_area.display_order` */\n",
       "      index: 0\n",
       "    });\n",
       "  }\n",
       "\n",
       "  // register the mime type if in Jupyter Notebook environment and previously unregistered\n",
       "  if (root.Jupyter !== undefined) {\n",
       "    var events = require('base/js/events');\n",
       "    var OutputArea = require('notebook/js/outputarea').OutputArea;\n",
       "\n",
       "    if (OutputArea.prototype.mime_types().indexOf(EXEC_MIME_TYPE) == -1) {\n",
       "      register_renderer(events, OutputArea);\n",
       "    }\n",
       "  }\n",
       "\n",
       "  \n",
       "  if (typeof (root._bokeh_timeout) === \"undefined\" || force === true) {\n",
       "    root._bokeh_timeout = Date.now() + 5000;\n",
       "    root._bokeh_failed_load = false;\n",
       "  }\n",
       "\n",
       "  var NB_LOAD_WARNING = {'data': {'text/html':\n",
       "     \"<div style='background-color: #fdd'>\\n\"+\n",
       "     \"<p>\\n\"+\n",
       "     \"BokehJS does not appear to have successfully loaded. If loading BokehJS from CDN, this \\n\"+\n",
       "     \"may be due to a slow or bad network connection. Possible fixes:\\n\"+\n",
       "     \"</p>\\n\"+\n",
       "     \"<ul>\\n\"+\n",
       "     \"<li>re-rerun `output_notebook()` to attempt to load from CDN again, or</li>\\n\"+\n",
       "     \"<li>use INLINE resources instead, as so:</li>\\n\"+\n",
       "     \"</ul>\\n\"+\n",
       "     \"<code>\\n\"+\n",
       "     \"from bokeh.resources import INLINE\\n\"+\n",
       "     \"output_notebook(resources=INLINE)\\n\"+\n",
       "     \"</code>\\n\"+\n",
       "     \"</div>\"}};\n",
       "\n",
       "  function display_loaded() {\n",
       "    var el = document.getElementById(\"e1fe621f-f97d-499c-b1e0-d2f7a0ab2578\");\n",
       "    if (el != null) {\n",
       "      el.textContent = \"BokehJS is loading...\";\n",
       "    }\n",
       "    if (root.Bokeh !== undefined) {\n",
       "      if (el != null) {\n",
       "        el.textContent = \"BokehJS \" + root.Bokeh.version + \" successfully loaded.\";\n",
       "      }\n",
       "    } else if (Date.now() < root._bokeh_timeout) {\n",
       "      setTimeout(display_loaded, 100)\n",
       "    }\n",
       "  }\n",
       "\n",
       "\n",
       "  function run_callbacks() {\n",
       "    try {\n",
       "      root._bokeh_onload_callbacks.forEach(function(callback) { callback() });\n",
       "    }\n",
       "    finally {\n",
       "      delete root._bokeh_onload_callbacks\n",
       "    }\n",
       "    console.info(\"Bokeh: all callbacks have finished\");\n",
       "  }\n",
       "\n",
       "  function load_libs(js_urls, callback) {\n",
       "    root._bokeh_onload_callbacks.push(callback);\n",
       "    if (root._bokeh_is_loading > 0) {\n",
       "      console.log(\"Bokeh: BokehJS is being loaded, scheduling callback at\", now());\n",
       "      return null;\n",
       "    }\n",
       "    if (js_urls == null || js_urls.length === 0) {\n",
       "      run_callbacks();\n",
       "      return null;\n",
       "    }\n",
       "    console.log(\"Bokeh: BokehJS not loaded, scheduling load and callback at\", now());\n",
       "    root._bokeh_is_loading = js_urls.length;\n",
       "    for (var i = 0; i < js_urls.length; i++) {\n",
       "      var url = js_urls[i];\n",
       "      var s = document.createElement('script');\n",
       "      s.src = url;\n",
       "      s.async = false;\n",
       "      s.onreadystatechange = s.onload = function() {\n",
       "        root._bokeh_is_loading--;\n",
       "        if (root._bokeh_is_loading === 0) {\n",
       "          console.log(\"Bokeh: all BokehJS libraries loaded\");\n",
       "          run_callbacks()\n",
       "        }\n",
       "      };\n",
       "      s.onerror = function() {\n",
       "        console.warn(\"failed to load library \" + url);\n",
       "      };\n",
       "      console.log(\"Bokeh: injecting script tag for BokehJS library: \", url);\n",
       "      document.getElementsByTagName(\"head\")[0].appendChild(s);\n",
       "    }\n",
       "  };var element = document.getElementById(\"e1fe621f-f97d-499c-b1e0-d2f7a0ab2578\");\n",
       "  if (element == null) {\n",
       "    console.log(\"Bokeh: ERROR: autoload.js configured with elementid 'e1fe621f-f97d-499c-b1e0-d2f7a0ab2578' but no matching script tag was found. \")\n",
       "    return false;\n",
       "  }\n",
       "\n",
       "  var js_urls = [\"https://cdn.pydata.org/bokeh/release/bokeh-0.13.0.min.js\", \"https://cdn.pydata.org/bokeh/release/bokeh-widgets-0.13.0.min.js\", \"https://cdn.pydata.org/bokeh/release/bokeh-tables-0.13.0.min.js\", \"https://cdn.pydata.org/bokeh/release/bokeh-gl-0.13.0.min.js\"];\n",
       "\n",
       "  var inline_js = [\n",
       "    function(Bokeh) {\n",
       "      Bokeh.set_log_level(\"info\");\n",
       "    },\n",
       "    \n",
       "    function(Bokeh) {\n",
       "      \n",
       "    },\n",
       "    function(Bokeh) {\n",
       "      console.log(\"Bokeh: injecting CSS: https://cdn.pydata.org/bokeh/release/bokeh-0.13.0.min.css\");\n",
       "      Bokeh.embed.inject_css(\"https://cdn.pydata.org/bokeh/release/bokeh-0.13.0.min.css\");\n",
       "      console.log(\"Bokeh: injecting CSS: https://cdn.pydata.org/bokeh/release/bokeh-widgets-0.13.0.min.css\");\n",
       "      Bokeh.embed.inject_css(\"https://cdn.pydata.org/bokeh/release/bokeh-widgets-0.13.0.min.css\");\n",
       "      console.log(\"Bokeh: injecting CSS: https://cdn.pydata.org/bokeh/release/bokeh-tables-0.13.0.min.css\");\n",
       "      Bokeh.embed.inject_css(\"https://cdn.pydata.org/bokeh/release/bokeh-tables-0.13.0.min.css\");\n",
       "    }\n",
       "  ];\n",
       "\n",
       "  function run_inline_js() {\n",
       "    \n",
       "    if ((root.Bokeh !== undefined) || (force === true)) {\n",
       "      for (var i = 0; i < inline_js.length; i++) {\n",
       "        inline_js[i].call(root, root.Bokeh);\n",
       "      }if (force === true) {\n",
       "        display_loaded();\n",
       "      }} else if (Date.now() < root._bokeh_timeout) {\n",
       "      setTimeout(run_inline_js, 100);\n",
       "    } else if (!root._bokeh_failed_load) {\n",
       "      console.log(\"Bokeh: BokehJS failed to load within specified timeout.\");\n",
       "      root._bokeh_failed_load = true;\n",
       "    } else if (force !== true) {\n",
       "      var cell = $(document.getElementById(\"e1fe621f-f97d-499c-b1e0-d2f7a0ab2578\")).parents('.cell').data().cell;\n",
       "      cell.output_area.append_execute_result(NB_LOAD_WARNING)\n",
       "    }\n",
       "\n",
       "  }\n",
       "\n",
       "  if (root._bokeh_is_loading === 0) {\n",
       "    console.log(\"Bokeh: BokehJS loaded, going straight to plotting\");\n",
       "    run_inline_js();\n",
       "  } else {\n",
       "    load_libs(js_urls, function() {\n",
       "      console.log(\"Bokeh: BokehJS plotting callback run at\", now());\n",
       "      run_inline_js();\n",
       "    });\n",
       "  }\n",
       "}(window));"
      ],
      "application/vnd.bokehjs_load.v0+json": "\n(function(root) {\n  function now() {\n    return new Date();\n  }\n\n  var force = true;\n\n  if (typeof (root._bokeh_onload_callbacks) === \"undefined\" || force === true) {\n    root._bokeh_onload_callbacks = [];\n    root._bokeh_is_loading = undefined;\n  }\n\n  \n\n  \n  if (typeof (root._bokeh_timeout) === \"undefined\" || force === true) {\n    root._bokeh_timeout = Date.now() + 5000;\n    root._bokeh_failed_load = false;\n  }\n\n  var NB_LOAD_WARNING = {'data': {'text/html':\n     \"<div style='background-color: #fdd'>\\n\"+\n     \"<p>\\n\"+\n     \"BokehJS does not appear to have successfully loaded. If loading BokehJS from CDN, this \\n\"+\n     \"may be due to a slow or bad network connection. Possible fixes:\\n\"+\n     \"</p>\\n\"+\n     \"<ul>\\n\"+\n     \"<li>re-rerun `output_notebook()` to attempt to load from CDN again, or</li>\\n\"+\n     \"<li>use INLINE resources instead, as so:</li>\\n\"+\n     \"</ul>\\n\"+\n     \"<code>\\n\"+\n     \"from bokeh.resources import INLINE\\n\"+\n     \"output_notebook(resources=INLINE)\\n\"+\n     \"</code>\\n\"+\n     \"</div>\"}};\n\n  function display_loaded() {\n    var el = document.getElementById(\"e1fe621f-f97d-499c-b1e0-d2f7a0ab2578\");\n    if (el != null) {\n      el.textContent = \"BokehJS is loading...\";\n    }\n    if (root.Bokeh !== undefined) {\n      if (el != null) {\n        el.textContent = \"BokehJS \" + root.Bokeh.version + \" successfully loaded.\";\n      }\n    } else if (Date.now() < root._bokeh_timeout) {\n      setTimeout(display_loaded, 100)\n    }\n  }\n\n\n  function run_callbacks() {\n    try {\n      root._bokeh_onload_callbacks.forEach(function(callback) { callback() });\n    }\n    finally {\n      delete root._bokeh_onload_callbacks\n    }\n    console.info(\"Bokeh: all callbacks have finished\");\n  }\n\n  function load_libs(js_urls, callback) {\n    root._bokeh_onload_callbacks.push(callback);\n    if (root._bokeh_is_loading > 0) {\n      console.log(\"Bokeh: BokehJS is being loaded, scheduling callback at\", now());\n      return null;\n    }\n    if (js_urls == null || js_urls.length === 0) {\n      run_callbacks();\n      return null;\n    }\n    console.log(\"Bokeh: BokehJS not loaded, scheduling load and callback at\", now());\n    root._bokeh_is_loading = js_urls.length;\n    for (var i = 0; i < js_urls.length; i++) {\n      var url = js_urls[i];\n      var s = document.createElement('script');\n      s.src = url;\n      s.async = false;\n      s.onreadystatechange = s.onload = function() {\n        root._bokeh_is_loading--;\n        if (root._bokeh_is_loading === 0) {\n          console.log(\"Bokeh: all BokehJS libraries loaded\");\n          run_callbacks()\n        }\n      };\n      s.onerror = function() {\n        console.warn(\"failed to load library \" + url);\n      };\n      console.log(\"Bokeh: injecting script tag for BokehJS library: \", url);\n      document.getElementsByTagName(\"head\")[0].appendChild(s);\n    }\n  };var element = document.getElementById(\"e1fe621f-f97d-499c-b1e0-d2f7a0ab2578\");\n  if (element == null) {\n    console.log(\"Bokeh: ERROR: autoload.js configured with elementid 'e1fe621f-f97d-499c-b1e0-d2f7a0ab2578' but no matching script tag was found. \")\n    return false;\n  }\n\n  var js_urls = [\"https://cdn.pydata.org/bokeh/release/bokeh-0.13.0.min.js\", \"https://cdn.pydata.org/bokeh/release/bokeh-widgets-0.13.0.min.js\", \"https://cdn.pydata.org/bokeh/release/bokeh-tables-0.13.0.min.js\", \"https://cdn.pydata.org/bokeh/release/bokeh-gl-0.13.0.min.js\"];\n\n  var inline_js = [\n    function(Bokeh) {\n      Bokeh.set_log_level(\"info\");\n    },\n    \n    function(Bokeh) {\n      \n    },\n    function(Bokeh) {\n      console.log(\"Bokeh: injecting CSS: https://cdn.pydata.org/bokeh/release/bokeh-0.13.0.min.css\");\n      Bokeh.embed.inject_css(\"https://cdn.pydata.org/bokeh/release/bokeh-0.13.0.min.css\");\n      console.log(\"Bokeh: injecting CSS: https://cdn.pydata.org/bokeh/release/bokeh-widgets-0.13.0.min.css\");\n      Bokeh.embed.inject_css(\"https://cdn.pydata.org/bokeh/release/bokeh-widgets-0.13.0.min.css\");\n      console.log(\"Bokeh: injecting CSS: https://cdn.pydata.org/bokeh/release/bokeh-tables-0.13.0.min.css\");\n      Bokeh.embed.inject_css(\"https://cdn.pydata.org/bokeh/release/bokeh-tables-0.13.0.min.css\");\n    }\n  ];\n\n  function run_inline_js() {\n    \n    if ((root.Bokeh !== undefined) || (force === true)) {\n      for (var i = 0; i < inline_js.length; i++) {\n        inline_js[i].call(root, root.Bokeh);\n      }if (force === true) {\n        display_loaded();\n      }} else if (Date.now() < root._bokeh_timeout) {\n      setTimeout(run_inline_js, 100);\n    } else if (!root._bokeh_failed_load) {\n      console.log(\"Bokeh: BokehJS failed to load within specified timeout.\");\n      root._bokeh_failed_load = true;\n    } else if (force !== true) {\n      var cell = $(document.getElementById(\"e1fe621f-f97d-499c-b1e0-d2f7a0ab2578\")).parents('.cell').data().cell;\n      cell.output_area.append_execute_result(NB_LOAD_WARNING)\n    }\n\n  }\n\n  if (root._bokeh_is_loading === 0) {\n    console.log(\"Bokeh: BokehJS loaded, going straight to plotting\");\n    run_inline_js();\n  } else {\n    load_libs(js_urls, function() {\n      console.log(\"Bokeh: BokehJS plotting callback run at\", now());\n      run_inline_js();\n    });\n  }\n}(window));"
     },
     "metadata": {},
     "output_type": "display_data"
    }
   ],
   "source": [
    "import pandas as pd\n",
    "import numpy as np\n",
    "\n",
    "# import bokeh \n",
    "from IPython.display import display, Markdown\n",
    "from bokeh.plotting import figure, show, Figure\n",
    "from bokeh.models import ColumnDataSource, Label\n",
    "from bokeh.models import HoverTool\n",
    "from bokeh.models.glyphs import Text\n",
    "from bokeh.palettes import Spectral3\n",
    "from bokeh.layouts import row, column, gridplot\n",
    "import seaborn as sns\n",
    "import matplotlib.pylab as plt\n",
    "\n",
    "#from bokeh.io import output_file, show\n",
    "from bokeh.models import GeoJSONDataSource\n",
    "import bokeh.models as bmo\n",
    "\n",
    "from bokeh.sampledata.sample_geojson import geojson\n",
    "import bokeh.palettes as bp\n",
    "\n",
    "# tell bokeh to show the figures in the notebook\n",
    "from bokeh.io import output_notebook\n",
    "output_notebook()\n",
    "#latest\n",
    "import pandas as pd\n",
    "import missingno as msno\n",
    "import warnings\n",
    "warnings.filterwarnings('ignore')\n",
    "\n",
    "\n",
    "\n"
   ]
  },
  {
   "cell_type": "markdown",
   "metadata": {},
   "source": [
    "We need to clean the station data as there are data missing"
   ]
  },
  {
   "cell_type": "code",
   "execution_count": 2,
   "metadata": {},
   "outputs": [
    {
     "data": {
      "text/plain": [
       "<matplotlib.axes._subplots.AxesSubplot at 0x284ba2b3278>"
      ]
     },
     "execution_count": 2,
     "metadata": {},
     "output_type": "execute_result"
    },
    {
     "data": {
      "image/png": "[encoded data removed]",
      "text/plain": [
       "<Figure size 1800x720 with 2 Axes>"
      ]
     },
     "metadata": {
      "needs_background": "light"
     },
     "output_type": "display_data"
    },
    {
     "data": {
      "image/png": "[encoded data removed]",
      "text/plain": [
       "<Figure size 1800x720 with 2 Axes>"
      ]
     },
     "metadata": {
      "needs_background": "light"
     },
     "output_type": "display_data"
    }
   ],
   "source": [
    "prices = pd.read_csv('example_sprit_cut_prices.csv', sep=';')\n",
    "msno.matrix(prices)\n",
    "#print(prices.head())\n",
    "\n",
    "station = pd.read_csv('example_sprit_cut_station.csv', sep=';')\n",
    "station.rename(columns={'ID':'STID'}, inplace=True)\n",
    "msno.matrix(station)\n",
    "#print(station.head())\n",
    "#station.info()"
   ]
  },
  {
   "cell_type": "markdown",
   "metadata": {},
   "source": [
    "# Data Cleaning:"
   ]
  },
  {
   "cell_type": "code",
   "execution_count": 3,
   "metadata": {},
   "outputs": [
    {
     "data": {
      "text/plain": [
       "array(['ARAL', 'JET', 'Supermarkt Tankstelle', 'Tankhof Iffezheim',\n",
       "       'Schiffer & Nicklaus GmbH', 'Sefrin Heizöl & Kraftstoffe', 'bft',\n",
       "       'Markant', 'AVIA', 'Bft', 'Freie Tankstelle',\n",
       "       'AUTO ZOTZ Landau in der Pfalz   Tanken und waschen', 'HEM',\n",
       "       'Fritz Walter GmbH', 'TAMOIL', 'rnt', 'Schuster & Sohn KG',\n",
       "       'Raiffeisen Tankstelle', 'E Center', 'Eberhardt', 'BFT', 'Agip',\n",
       "       'Winkler', 'Mr. Wash Autoservice AG', 'ESSO',\n",
       "       'ZG Raiffeisen Energie', 'freie Tankstelle', 'CLASSIC', 'Shell',\n",
       "       'Preis', 'mtb', 'Tankcenter', 'TS ARNT', 'frei', 'OMV',\n",
       "       'Frühmesser GmbH', 'OIL!', 'SB Markt', 'SB', 'TOTAL', 'ED',\n",
       "       'SB-Markttankstelle',\n",
       "       'AUTO ZOTZ Herxheim b.LD.       Tanken an L.493', 'Total',\n",
       "       'Markenfreie TS', 'TOP', 'T', 'ELAN', 'Tankstelle Heinz'], dtype=object)"
      ]
     },
     "execution_count": 3,
     "metadata": {},
     "output_type": "execute_result"
    }
   ],
   "source": [
    "import numpy as np\n",
    "#remove all unimportant columns from station dataframe  \n",
    "to_drop = ['HOUSE_NUMBER','PUBLIC_HOLIDAY_IDENTIFIER']\n",
    "station.drop(to_drop, inplace=True, axis=1)\n",
    "station.drop_duplicates(keep=False)\n",
    "station.fillna(0, inplace=True)\n",
    "\n",
    "    \n",
    "#ms.matrix(station)\n",
    "#station = station.replace('', np.nan, inplace=True)\n",
    "station.fillna(value='UNKNOWN')\n",
    "\n",
    "#removing non active brands\n",
    "station = station[station['POST_CODE'] != 'nicht']\n",
    "#station.loc[station['POST_CODE'] == 'nicht']\n",
    "station.replace('\\\\N', 'UNKNOWN', inplace=True)\n",
    "#station.replace(0, 'UNKNOWN', inplace=True)\n",
    "\n",
    "station.loc[station['BRAND'] == 'UNKNOWN']\n",
    "station['POST_CODE'] = station['POST_CODE'].replace('UNKNOWN', '0')\n",
    "#print(station['POST_CODE'].unique())\n",
    "station['VERSION_TIME']= pd.to_datetime(station['VERSION_TIME']) \n",
    "prices['DATE_CHANGED']= pd.to_datetime(prices['DATE_CHANGED']) \n",
    "station['LAT'] = station['LAT'].astype(float)\n",
    "station['LNG'] = station['LNG'].astype(float)\n",
    "station = station[station.BRAND != 0]\n",
    "station = station[station.BRAND != 'UNKNOWN']\n",
    "station.replace({'BRAND' : { '^Auto Zotz.*' : 'Auto Zotz', \n",
    "                                           '^Frei.*' : 'Freie Tankstelle',\n",
    "                                           '^Raiffeisen.*' : 'Raiffeisen Tankstelle',\n",
    "                                           '^Sb.*' : 'Sb Markt Tankstelle',\n",
    "                                           '^Supermarkt.*' : 'Supermarkt Tankstelle'\n",
    "                                            }},regex=True,inplace=True)\n",
    "\n",
    "station.replace({'BRAND' : { '^Autohaus Holz.*' : 'Autohaus Holz', \n",
    "                                           '^Eberhardt.*' : 'Eberhardt',\n",
    "                                           '^Globus Handelshof .*' : 'Globus Handelshof Gmbh & Co. Kg',\n",
    "                                           '^Sbk .*' : 'Sbk - Tankstelle',\n",
    "                                            }},regex=True,inplace=True)\n",
    "\n",
    "station['BRAND'].str.upper()\n",
    "\n",
    "station['BRAND'].unique()"
   ]
  },
  {
   "cell_type": "code",
   "execution_count": 4,
   "metadata": {},
   "outputs": [],
   "source": [
    "def remove_invalid_prices(fuel_name):\n",
    "    fuel_invalid=prices[prices[fuel_name]<=0]\n",
    "    prices.drop(fuel_invalid.index,axis=0,inplace=True)\n",
    "\n",
    "remove_invalid_prices('E5')\n",
    "remove_invalid_prices('E10')\n",
    "remove_invalid_prices('DIESEL')"
   ]
  },
  {
   "cell_type": "code",
   "execution_count": 5,
   "metadata": {},
   "outputs": [
    {
     "data": {
      "text/plain": [
       "<matplotlib.axes._subplots.AxesSubplot at 0x284ba2824a8>"
      ]
     },
     "execution_count": 5,
     "metadata": {},
     "output_type": "execute_result"
    },
    {
     "data": {
      "image/png": "[encoded data removed]",
      "text/plain": [
       "<Figure size 1800x720 with 2 Axes>"
      ]
     },
     "metadata": {
      "needs_background": "light"
     },
     "output_type": "display_data"
    }
   ],
   "source": [
    "msno.matrix(station)"
   ]
  },
  {
   "cell_type": "markdown",
   "metadata": {},
   "source": [
    "data is clean."
   ]
  },
  {
   "cell_type": "markdown",
   "metadata": {},
   "source": [
    "# 1.How many different stations exist in the dataset and what is the existing history."
   ]
  },
  {
   "cell_type": "code",
   "execution_count": 6,
   "metadata": {},
   "outputs": [],
   "source": [
    "#visualisation\n",
    "import datetime\n",
    "\n",
    "\n",
    "prices['DATE_CHANGED'] = pd.to_datetime(prices['DATE_CHANGED'])\n",
    "\n",
    "#station[['LAT', 'LNG','BRAND','NAME','VERSION_TIME']]\n",
    "#station['DAYS'] = currentDT -station['VERSION_TIME']\n",
    "#station[['LAT', 'LNG','BRAND','NAME','VERSION_TIME','DAYS']]"
   ]
  },
  {
   "cell_type": "code",
   "execution_count": 7,
   "metadata": {},
   "outputs": [
    {
     "name": "stdout",
     "output_type": "stream",
     "text": [
      "No of unique stations are387\n",
      "No of unique brands are49\n"
     ]
    },
    {
     "data": {
      "text/html": [
       "<div>\n",
       "<style scoped>\n",
       "    .dataframe tbody tr th:only-of-type {\n",
       "        vertical-align: middle;\n",
       "    }\n",
       "\n",
       "    .dataframe tbody tr th {\n",
       "        vertical-align: top;\n",
       "    }\n",
       "\n",
       "    .dataframe thead th {\n",
       "        text-align: right;\n",
       "    }\n",
       "</style>\n",
       "<table border=\"1\" class=\"dataframe\">\n",
       "  <thead>\n",
       "    <tr style=\"text-align: right;\">\n",
       "      <th></th>\n",
       "      <th>BRAND</th>\n",
       "      <th>min</th>\n",
       "      <th>max</th>\n",
       "      <th>history_days</th>\n",
       "    </tr>\n",
       "  </thead>\n",
       "  <tbody>\n",
       "    <tr>\n",
       "      <th>0</th>\n",
       "      <td>ARAL</td>\n",
       "      <td>2014-06-08 09:50:01</td>\n",
       "      <td>2015-09-29 23:02:01</td>\n",
       "      <td>478.550000</td>\n",
       "    </tr>\n",
       "    <tr>\n",
       "      <th>1</th>\n",
       "      <td>AUTO ZOTZ Herxheim b.LD.       Tanken an L.493</td>\n",
       "      <td>2014-06-09 00:02:01</td>\n",
       "      <td>2015-09-29 17:42:01</td>\n",
       "      <td>477.736111</td>\n",
       "    </tr>\n",
       "    <tr>\n",
       "      <th>2</th>\n",
       "      <td>AUTO ZOTZ Landau in der Pfalz   Tanken und was...</td>\n",
       "      <td>2014-06-09 00:02:01</td>\n",
       "      <td>2015-09-29 15:22:01</td>\n",
       "      <td>477.638889</td>\n",
       "    </tr>\n",
       "    <tr>\n",
       "      <th>3</th>\n",
       "      <td>AVIA</td>\n",
       "      <td>2014-06-08 09:50:01</td>\n",
       "      <td>2015-09-29 23:34:01</td>\n",
       "      <td>478.572222</td>\n",
       "    </tr>\n",
       "    <tr>\n",
       "      <th>4</th>\n",
       "      <td>Agip</td>\n",
       "      <td>2014-06-08 09:50:01</td>\n",
       "      <td>2015-09-29 23:06:01</td>\n",
       "      <td>478.552778</td>\n",
       "    </tr>\n",
       "  </tbody>\n",
       "</table>\n",
       "</div>"
      ],
      "text/plain": [
       "                                               BRAND                 min  \\\n",
       "0                                               ARAL 2014-06-08 09:50:01   \n",
       "1     AUTO ZOTZ Herxheim b.LD.       Tanken an L.493 2014-06-09 00:02:01   \n",
       "2  AUTO ZOTZ Landau in der Pfalz   Tanken und was... 2014-06-09 00:02:01   \n",
       "3                                               AVIA 2014-06-08 09:50:01   \n",
       "4                                               Agip 2014-06-08 09:50:01   \n",
       "\n",
       "                  max  history_days  \n",
       "0 2015-09-29 23:02:01    478.550000  \n",
       "1 2015-09-29 17:42:01    477.736111  \n",
       "2 2015-09-29 15:22:01    477.638889  \n",
       "3 2015-09-29 23:34:01    478.572222  \n",
       "4 2015-09-29 23:06:01    478.552778  "
      ]
     },
     "execution_count": 7,
     "metadata": {},
     "output_type": "execute_result"
    }
   ],
   "source": [
    "\n",
    "merged_df= pd.merge(station,prices, on='STID')\n",
    "\n",
    "no_of_stations = merged_df.STID.nunique()\n",
    "no_of_brands = merged_df.BRAND.nunique()\n",
    "print('No of unique stations are%d'%no_of_stations)\n",
    "print('No of unique brands are%d'%no_of_brands)\n",
    "\n",
    "# brand_existence = merged_df.groupby('BRAND')['DATE_CHANGED']\n",
    "# brand_start=brand_existence.min().reset_index()\n",
    "# brand_end=brand_existence.max().reset_index()\n",
    "# # get brand history in days and \n",
    "# brand_history = (pd.to_datetime(brand_end['DATE_CHANGED'])-pd.to_datetime(brand_start['DATE_CHANGED'])).dt.days\n",
    "# brand_end['No of Days'] = brand_history\n",
    "history =merged_df.groupby(['BRAND']).DATE_CHANGED.agg([min,max]).reset_index()\n",
    "history['history_days'] = history['max']-history['min']\n",
    "history['history_days'] =history['history_days'] / np.timedelta64(1, 'D')\n",
    "history.head(5)"
   ]
  },
  {
   "cell_type": "code",
   "execution_count": 8,
   "metadata": {},
   "outputs": [],
   "source": [
    "def bar_chart(x,y,x_label,y_label):\n",
    "    \n",
    "\n",
    "    p = figure(x_range=x, plot_height=350,plot_width=800, \n",
    "           toolbar_location=None, tools=\"\")\n",
    "\n",
    "    p.vbar(x=x, top=y, width=0.3)\n",
    "    p.xgrid.grid_line_color = None\n",
    "    p.xaxis.axis_label = x_label\n",
    "    p.yaxis.axis_label = y_label\n",
    "    p.xaxis.major_label_orientation = 0.5\n",
    "    p.y_range.start = 0\n",
    "\n",
    "    show(p)"
   ]
  },
  {
   "cell_type": "code",
   "execution_count": 9,
   "metadata": {},
   "outputs": [],
   "source": [
    "history = history.drop(history.index[0])\n",
    "#print(list(history['BRAND']))\n",
    "bar_chart(list(history['BRAND']),history['history_days'],'Brand','days')"
   ]
  },
  {
   "cell_type": "code",
   "execution_count": 10,
   "metadata": {},
   "outputs": [],
   "source": [
    "#line chart\n",
    "\n",
    "def line(x,y,x_label,y_label):\n",
    "    \n",
    "    p = figure(plot_width=600, plot_height=400)\n",
    "\n",
    "    \n",
    "    # add a line renderer\n",
    "    p.xaxis.axis_label = x_label\n",
    "    p.yaxis.axis_label = y_label\n",
    "    p.line(x, y, line_width=2)\n",
    "\n",
    "    #show(p)\n",
    "    show(p)"
   ]
  },
  {
   "cell_type": "markdown",
   "metadata": {},
   "source": [
    "# 2.What is the min ,max,mean for each gasoline type and station weekly"
   ]
  },
  {
   "cell_type": "code",
   "execution_count": 11,
   "metadata": {},
   "outputs": [
    {
     "name": "stdout",
     "output_type": "stream",
     "text": [
      "Hover to view the prices at each date\n"
     ]
    }
   ],
   "source": [
    "\n",
    "weekly_prices = prices.copy()\n",
    "\n",
    "weekly_prices['DATE_CHANGED_week'] = pd.to_datetime(weekly_prices['DATE_CHANGED']) - pd.to_timedelta(7, unit='d')\n",
    "\n",
    "\n",
    "weekly_prices_e5 = weekly_prices.groupby(['STID', pd.Grouper(key='DATE_CHANGED_week', freq='W-MON')])['E5'].agg([pd.np.min, pd.np.max, pd.np.mean]).reset_index().sort_values('STID')\n",
    "weekly_prices_e5 = weekly_prices_e5[(weekly_prices_e5.amin != 0) & (weekly_prices_e5.amax != 0) ]\n",
    "weekly_prices_e5 = weekly_prices_e5[(weekly_prices_e5.amin != -1) & (weekly_prices_e5.amax != -1) ]\n",
    "#weekly_prices_e5.sort_values('DATE_CHANGED_week')\n",
    "weekly_prices_e5['dates'] = pd.to_datetime(weekly_prices_e5.DATE_CHANGED_week, format='%Y/%m/%d')\n",
    "weekly_prices_e5 = weekly_prices_e5.sort_values(by='dates')\n",
    "        \n",
    "#print(weekly_prices_e5.head(10))\n",
    "\n",
    "weekly_prices_e10 = weekly_prices.groupby(['STID', pd.Grouper(key='DATE_CHANGED_week', freq='W-MON')])['E10'].agg([pd.np.min, pd.np.max, pd.np.mean]).reset_index().sort_values('STID')\n",
    "weekly_prices_e10 = weekly_prices_e10[(weekly_prices_e10.amin != 0) & (weekly_prices_e10.amax != 0) ]\n",
    "weekly_prices_e10 = weekly_prices_e10[(weekly_prices_e10.amin != -1) & (weekly_prices_e10.amax != -1) ]\n",
    "weekly_prices_e10['dates'] = pd.to_datetime(weekly_prices_e10.DATE_CHANGED_week, format='%Y/%m/%d')\n",
    "weekly_prices_e10 = weekly_prices_e10.sort_values(by='dates')\n",
    "#print(len(weekly_prices_e10))\n",
    "\n",
    "weekly_prices_diesel = weekly_prices.groupby(['STID', pd.Grouper(key='DATE_CHANGED_week', freq='W-MON')])['DIESEL'].agg([pd.np.min, pd.np.max, pd.np.mean]).reset_index().sort_values('STID')\n",
    "weekly_prices_diesel = weekly_prices_diesel[(weekly_prices_diesel.amin != 0) & (weekly_prices_diesel.amax != 0) ]\n",
    "weekly_prices_diesel['dates'] = pd.to_datetime(weekly_prices_diesel.DATE_CHANGED_week, format='%Y/%m/%d')\n",
    "weekly_prices_diesel = weekly_prices_diesel.sort_values(by='dates')\n",
    "#print(weekly_prices_diesel.head(10))\n",
    "\n",
    "\n",
    "def plot_weekstats(type,id):\n",
    "    #print('The weekly stats for type %s and STID %s is:'%type%id )\n",
    "    print('Hover to view the prices at each date')\n",
    "    p = figure(plot_width=1000, plot_height=400,x_axis_type=\"datetime\")\n",
    "    # add a line renderer\n",
    "    p.xaxis.axis_label = 'weeks in increasing order as per (history prices)'\n",
    "    p.yaxis.axis_label = 'prices'\n",
    "    if type =='e5' or type=='E5':\n",
    "        weekly_prices_e5_ = weekly_prices_e5[(weekly_prices_e5.STID == id)]\n",
    "        source = ColumnDataSource(weekly_prices_e5_)\n",
    "\n",
    "    if type =='e10' or type=='E10':\n",
    "        weekly_prices_e10_ = weekly_prices_e10[(weekly_prices_e10.STID == id)]\n",
    "        source = ColumnDataSource(weekly_prices_e10_)\n",
    "\n",
    "    if type =='diesel' or type=='Diesel' or type=='DIESEL' :\n",
    "        weekly_prices_diesel_ = weekly_prices_diesel[(weekly_prices_diesel.STID == id)]\n",
    "        source = ColumnDataSource(weekly_prices_diesel_)\n",
    "\n",
    "    \n",
    "    p.line('dates', 'amin', line_width=2,line_color=\"blue\",source = source)\n",
    "    p.line('dates', 'amax', line_width=2,line_color=\"red\",source = source)\n",
    "    p.line('dates', 'mean', line_width=2,line_color=\"green\",source = source)\n",
    "    \n",
    "    p.add_tools(HoverTool(tooltips=[(\"min\", \"@amin\"),(\"max\", \"@amax\"), (\"mean\", \"@mean\")]))\n",
    "\n",
    "    #show(p)\n",
    "    show(p)\n",
    "    \n",
    "\n",
    "plot_weekstats('diesel','00060385-0001-4444-8888-acdc00000001')\n",
    "\n"
   ]
  },
  {
   "cell_type": "code",
   "execution_count": null,
   "metadata": {},
   "outputs": [],
   "source": []
  },
  {
   "cell_type": "code",
   "execution_count": 12,
   "metadata": {},
   "outputs": [
    {
     "data": {
      "text/html": [
       "<div>\n",
       "<style scoped>\n",
       "    .dataframe tbody tr th:only-of-type {\n",
       "        vertical-align: middle;\n",
       "    }\n",
       "\n",
       "    .dataframe tbody tr th {\n",
       "        vertical-align: top;\n",
       "    }\n",
       "\n",
       "    .dataframe thead th {\n",
       "        text-align: right;\n",
       "    }\n",
       "</style>\n",
       "<table border=\"1\" class=\"dataframe\">\n",
       "  <thead>\n",
       "    <tr style=\"text-align: right;\">\n",
       "      <th></th>\n",
       "      <th>BRAND</th>\n",
       "      <th>mean</th>\n",
       "    </tr>\n",
       "  </thead>\n",
       "  <tbody>\n",
       "    <tr>\n",
       "      <th>1</th>\n",
       "      <td>AUTO ZOTZ Herxheim b.LD.       Tanken an L.493</td>\n",
       "      <td>1352.129709</td>\n",
       "    </tr>\n",
       "    <tr>\n",
       "      <th>2</th>\n",
       "      <td>AUTO ZOTZ Landau in der Pfalz   Tanken und was...</td>\n",
       "      <td>1353.583165</td>\n",
       "    </tr>\n",
       "    <tr>\n",
       "      <th>3</th>\n",
       "      <td>AVIA</td>\n",
       "      <td>1388.857040</td>\n",
       "    </tr>\n",
       "    <tr>\n",
       "      <th>4</th>\n",
       "      <td>Agip</td>\n",
       "      <td>1381.328999</td>\n",
       "    </tr>\n",
       "    <tr>\n",
       "      <th>5</th>\n",
       "      <td>BFT</td>\n",
       "      <td>1361.443724</td>\n",
       "    </tr>\n",
       "  </tbody>\n",
       "</table>\n",
       "</div>"
      ],
      "text/plain": [
       "                                               BRAND         mean\n",
       "1     AUTO ZOTZ Herxheim b.LD.       Tanken an L.493  1352.129709\n",
       "2  AUTO ZOTZ Landau in der Pfalz   Tanken und was...  1353.583165\n",
       "3                                               AVIA  1388.857040\n",
       "4                                               Agip  1381.328999\n",
       "5                                                BFT  1361.443724"
      ]
     },
     "execution_count": 12,
     "metadata": {},
     "output_type": "execute_result"
    }
   ],
   "source": [
    "diesel = weekly_prices_diesel.groupby(['STID'])['mean'].agg([pd.np.mean]).reset_index().sort_values('mean')\n",
    "#print(diesel.head(10))\n",
    "e10 = weekly_prices_e10.groupby(['STID'])['mean'].agg([pd.np.mean]).reset_index().sort_values('mean')\n",
    "#print(e10.head(10))\n",
    "e5 = weekly_prices_e5.groupby(['STID'])['mean'].agg([pd.np.mean]).reset_index().sort_values('mean')\n",
    "\n",
    "\n",
    "#solution for question 7\n",
    "x = pd.merge(diesel, e10, on='STID')\n",
    "y = pd.merge(x, e5, on='STID')\n",
    "y['average_price'] = y[['mean_x','mean_y','mean']].mean(axis=1)\n",
    "y=y.sort_values(by ='average_price' , ascending=False)\n",
    "\n",
    "y= pd.merge(station,y, on='STID')\n",
    "y = y.groupby(['BRAND'])['average_price'].agg([pd.np.mean]).reset_index()\n",
    "y = y.drop(y.index[0])\n",
    "y.head()\n"
   ]
  },
  {
   "cell_type": "markdown",
   "metadata": {},
   "source": [
    "# Question 3:What is the cheapest station?"
   ]
  },
  {
   "cell_type": "code",
   "execution_count": 13,
   "metadata": {},
   "outputs": [
    {
     "name": "stdout",
     "output_type": "stream",
     "text": [
      "Most cheapest gas station for all types is-\n",
      "BRAND    Winkler\n",
      "mean     1290.38\n",
      "Name: 42, dtype: object\n"
     ]
    }
   ],
   "source": [
    "\n",
    "from bokeh.io import show, output_file\n",
    "from bokeh.plotting import figure\n",
    "\n",
    "\n",
    "\n",
    "fruits = y['BRAND']\n",
    "counts = y['mean']\n",
    "\n",
    "\n",
    "\n",
    "p = figure(x_range=fruits, plot_height=450,plot_width=800,\n",
    "           toolbar_location=None, tools=\"\")\n",
    "\n",
    "p.vbar(x=fruits, top=counts, width=0.1)\n",
    "p.xgrid.grid_line_color = None\n",
    "p.y_range.start = 0\n",
    "p.xgrid.grid_line_color = None\n",
    "p.y_range.start = 0\n",
    "p.xaxis.major_label_orientation = 1\n",
    "#p.x_range.range_padding = 2\n",
    "p.xaxis.axis_label = \"brand\"\n",
    "p.yaxis.axis_label = \"average price for all types\"\n",
    "p.outline_line_color = 'black'\n",
    "show(p)\n",
    "\n",
    "print('Most cheapest gas station for all types is-')\n",
    "print(y.loc[y['mean'].idxmin()])"
   ]
  },
  {
   "cell_type": "code",
   "execution_count": 14,
   "metadata": {},
   "outputs": [],
   "source": [
    "# print('cheapest station per gasoline type')\n",
    "\n",
    "# e5_mean = weekly_prices_e5.groupby(['STID']).mean().reset_index()\n",
    "# #print(e5_mean)\n",
    "# print(e5_mean.loc[e5_mean['mean'].idxmin()])\n",
    "\n",
    "# e10_mean = weekly_prices_e10.groupby(['STID']).mean().reset_index()\n",
    "# print(e10_mean.loc[e10_mean['mean'].idxmin()])\n",
    "\n",
    "# e5_diesel = weekly_prices_diesel.groupby(['STID']).mean().reset_index()\n",
    "# print(e5_diesel.loc[e5_mean['mean'].idxmin()])\n"
   ]
  },
  {
   "cell_type": "code",
   "execution_count": 15,
   "metadata": {},
   "outputs": [],
   "source": [
    "#4.at which day of a week is the price most \n",
    "#prices['day'] = prices.DATE_CHANGED.strftime(\"%A\")\n",
    "prices['day'] = prices['DATE_CHANGED'].map(\n",
    "    lambda x: x.strftime(\"%A\")\n",
    ")\n",
    "prices['month'] = prices['DATE_CHANGED'].map(\n",
    "    lambda x: x.month\n",
    ")\n",
    "prices['year'] = prices['DATE_CHANGED'].map(\n",
    "    lambda x: x.year\n",
    ")\n",
    "prices['HR'] = prices['DATE_CHANGED'].map(\n",
    "    lambda x: x.hour\n",
    ")\n",
    "\n",
    "\n",
    "prices['average_price'] = prices[['E5','E10','DIESEL']].mean(axis=1)\n",
    "\n",
    "min_price_by_day = prices[['average_price', 'day']].copy()\n",
    "#print(min_price_by_day.head())\n",
    "min_price_by_day_grouped = min_price_by_day.groupby(['day'])['average_price'].agg([pd.np.mean]).reset_index()\n",
    "\n",
    "#bar chart to visualize\n",
    "\n",
    "min_price_by_hr = prices[['average_price', 'HR']].copy()\n",
    "#print(min_price_by_hr.head())\n",
    "min_price_by_hr_grouped = min_price_by_hr.groupby(['HR'])['average_price'].agg([pd.np.mean]).reset_index()\n",
    "\n",
    "\n",
    "#line(min_price_by_hr_grouped['HR'],min_price_by_hr_grouped['mean'],'hour','average_price')\n",
    "#bar chart to visualize\n",
    "\n"
   ]
  },
  {
   "cell_type": "markdown",
   "metadata": {},
   "source": [
    "# Question 4 :At which day of the week is the price most likely the cheapest"
   ]
  },
  {
   "cell_type": "code",
   "execution_count": 16,
   "metadata": {},
   "outputs": [
    {
     "name": "stdout",
     "output_type": "stream",
     "text": [
      "The day of the week cheapest price is:\n",
      "day     Saturday\n",
      "mean     1375.89\n",
      "Name: 2, dtype: object\n"
     ]
    }
   ],
   "source": [
    "from bokeh.io import show, output_file\n",
    "from bokeh.plotting import figure\n",
    "\n",
    "bar_chart(min_price_by_day_grouped['day'],min_price_by_day_grouped['mean'],\"day\",\"average_price\")\n",
    "print('The day of the week cheapest price is:')\n",
    "print(min_price_by_day_grouped.loc[min_price_by_day_grouped['mean'].idxmin()])"
   ]
  },
  {
   "cell_type": "markdown",
   "metadata": {},
   "source": [
    "# question 5:At which hour of the day is the price most likely the cheapest."
   ]
  },
  {
   "cell_type": "code",
   "execution_count": 17,
   "metadata": {},
   "outputs": [
    {
     "name": "stdout",
     "output_type": "stream",
     "text": [
      "The day of the hour cheapest price is:\n",
      "HR        18.000000\n",
      "mean    1319.907688\n",
      "Name: 18, dtype: float64\n"
     ]
    }
   ],
   "source": [
    "print('The day of the hour cheapest price is:')\n",
    "print(min_price_by_hr_grouped.loc[min_price_by_hr_grouped['mean'].idxmin()])\n",
    "line(min_price_by_hr_grouped['HR'],min_price_by_hr_grouped['mean'],\"hour\",\"average_pice\")"
   ]
  },
  {
   "cell_type": "code",
   "execution_count": 18,
   "metadata": {},
   "outputs": [],
   "source": [
    "#5.at which hour of a day is the price most\n",
    "#cheapest day\n",
    "cheapest_e5_day = prices.groupby(['day']).mean().reset_index()\n",
    "#print(cheapest_e5_day)\n",
    "\n",
    "#cheapest hour\n",
    "cheapest_e5_day = prices.groupby(['HR']).mean().reset_index()\n",
    "#print(cheapest_e5_day)"
   ]
  },
  {
   "cell_type": "markdown",
   "metadata": {},
   "source": [
    "# 6.How many different station locations"
   ]
  },
  {
   "cell_type": "code",
   "execution_count": 19,
   "metadata": {},
   "outputs": [],
   "source": [
    "#6\n",
    "from bokeh.plotting import show\n",
    "import matplotlib.pylab as plt\n",
    "#from bokeh.io import  show\n",
    "from bokeh.models import GeoJSONDataSource\n",
    "import bokeh.models as bmo\n",
    "from bokeh.plotting import figure\n",
    "from bokeh.sampledata.sample_geojson import geojson\n",
    "import bokeh.palettes as bp\n",
    "def geo_data(station):\n",
    "    station = station[station.BRAND != 0]\n",
    "    #print(len(station['BRAND'].unique()))\n",
    "    df = station\n",
    "    \n",
    "    l=list(set(df['BRAND'].tolist()))\n",
    "    source = ColumnDataSource(df)\n",
    "    geo_source = GeoJSONDataSource(geojson=geojson)\n",
    "    \n",
    "    mypalette24 = bp.inferno(54)\n",
    "    color_map = bmo.CategoricalColorMapper(factors=l,\n",
    "                                   palette=mypalette24)\n",
    "\n",
    "# create figure and plot\n",
    "    p = figure()\n",
    "    p.scatter(x='LAT', y='LNG',\n",
    "          color={'field': 'BRAND', 'transform': color_map},\n",
    "          source=source)\n",
    "    p.add_tools(HoverTool(tooltips=[(\"brand\", \"@BRAND\"),(\"name\", \"@NAME\")]))\n",
    "\n",
    "    show(p)\n",
    "\n",
    "#     p = figure(background_fill_color=\"lightgrey\")\n",
    "#     p.circle(x=lat, y=lng, size=5, alpha=0.7)\n",
    "\n",
    "#     show(p)\n",
    "geo_data(station)"
   ]
  },
  {
   "cell_type": "markdown",
   "metadata": {},
   "source": [
    "7.What is the gas station which has most price data points.Choose one and draw the timeseries for all three gasoline types."
   ]
  },
  {
   "cell_type": "code",
   "execution_count": 20,
   "metadata": {},
   "outputs": [
    {
     "name": "stdout",
     "output_type": "stream",
     "text": [
      "Most priced gas station for all types is-\n",
      "BRAND      TOTAL\n",
      "mean     1448.15\n",
      "Name: 36, dtype: object\n"
     ]
    }
   ],
   "source": [
    "print('Most priced gas station for all types is-')\n",
    "print(y.loc[y['mean'].idxmax()])"
   ]
  },
  {
   "cell_type": "code",
   "execution_count": 21,
   "metadata": {},
   "outputs": [
    {
     "name": "stdout",
     "output_type": "stream",
     "text": [
      "The weekly stats for type e5 and brand TOTAL is:\n",
      "Hover to view the prices at each date\n",
      "The weekly stats for type e10 and brand TOTAL is:\n",
      "Hover to view the prices at each date\n",
      "The weekly stats for type diesel and brand TOTAL is:\n",
      "Hover to view the prices at each date\n"
     ]
    }
   ],
   "source": [
    "\n",
    "def plot_price(type,brand):\n",
    "    \n",
    "    print('The weekly stats for type '+type+' and brand '+brand+' is:')\n",
    "    print('Hover to view the prices at each date')\n",
    "    p = figure(plot_width=500, plot_height=400,x_axis_type=\"datetime\")\n",
    "    # add a line renderer\n",
    "    p.xaxis.axis_label = 'weeks in increasing order as per (history prices)'\n",
    "    p.yaxis.axis_label = 'prices'\n",
    "    if type =='e5' or type=='E5':\n",
    "        most_priced['price'] = most_priced.E5\n",
    "    if type =='e10' or type=='E10':\n",
    "        most_priced['price'] = most_priced.E10\n",
    "    if type =='diesel' or type=='Diesel' or type=='DIESEL' :\n",
    "        most_priced['price'] = most_priced.DIESEL\n",
    "    source = ColumnDataSource(most_priced)\n",
    "    p.line('dates', 'price', line_width=2,line_color=\"green\",source = source)\n",
    "    #p.line('dates', 'E10', line_width=2,line_color=\"red\",source = source)\n",
    "    p.add_tools(HoverTool(tooltips=[(\"price\", \"@price\")]))\n",
    "    show(p)\n",
    "    \n",
    "most_priced= pd.merge(station,prices, on='STID')\n",
    "most_priced['dates'] = pd.to_datetime(most_priced.DATE_CHANGED)\n",
    "#, format='%Y/%m/%d'\n",
    "most_priced = most_priced.sort_values(by='dates')\n",
    "most_priced = most_priced[(most_priced.BRAND=='TOTAL')]\n",
    "plot_price('e5','TOTAL')\n",
    "plot_price('e10','TOTAL')\n",
    "plot_price('diesel','TOTAL')"
   ]
  },
  {
   "cell_type": "markdown",
   "metadata": {},
   "source": [
    "# 8.At which hour of the day do we have most price changes?"
   ]
  },
  {
   "cell_type": "code",
   "execution_count": 22,
   "metadata": {},
   "outputs": [
    {
     "name": "stdout",
     "output_type": "stream",
     "text": [
      "HR            12\n",
      "counts    170868\n",
      "Name: 12, dtype: int64\n"
     ]
    }
   ],
   "source": [
    "#7 at which hour during a day we have most price changes\n",
    "hr_count =prices.groupby(['HR']).size().reset_index(name='counts')\n",
    "\n",
    "line(hr_count['HR'],hr_count['counts'],\"hour\",\"changes\")\n",
    "print(hr_count.loc[hr_count['counts'].idxmax()])"
   ]
  },
  {
   "cell_type": "markdown",
   "metadata": {},
   "source": [
    "# 9.Select 20 gas stations having the longest history.and visualise the average price per month"
   ]
  },
  {
   "cell_type": "code",
   "execution_count": 23,
   "metadata": {},
   "outputs": [
    {
     "data": {
      "image/png": "[encoded data removed]",
      "text/plain": [
       "<Figure size 432x288 with 2 Axes>"
      ]
     },
     "metadata": {
      "needs_background": "light"
     },
     "output_type": "display_data"
    }
   ],
   "source": [
    "# print(history.head())\n",
    "# stations = unique_prices['STID'][:21]\n",
    "#stations\n",
    "stations = history['BRAND'][:21]\n",
    "price_by_month = prices[['STID','average_price', 'month','HR']].copy()\n",
    "price_by_month_grouped =price_by_month[price_by_month['HR'].isin([12,13])]\n",
    "price_by_month_grouped = pd.merge(price_by_month_grouped,station,on='STID')\n",
    "price_by_month_grouped = price_by_month_grouped.groupby(['BRAND','month'])['average_price'].agg([pd.np.mean]).reset_index()\n",
    "\n",
    "price_by_month_grouped =price_by_month_grouped[price_by_month_grouped['BRAND'].isin(stations)]\n",
    "\n",
    "january = price_by_month_grouped[price_by_month_grouped['month']==1]\n",
    "january.rename(columns={'mean': 'january'}, inplace=True)\n",
    "january=january.drop(['month'], axis=1)\n",
    "\n",
    "February= price_by_month_grouped[price_by_month_grouped['month']==2]\n",
    "February.rename(columns={'mean': 'February'}, inplace=True)\n",
    "February=February.drop(['month'], axis=1)\n",
    "\n",
    "March= price_by_month_grouped[price_by_month_grouped['month']==3]\n",
    "March.rename(columns={'mean': 'March'}, inplace=True)\n",
    "March=March.drop(['month'], axis=1)\n",
    "\n",
    "april= price_by_month_grouped[price_by_month_grouped['month']==4]\n",
    "april.rename(columns={'mean': 'april'}, inplace=True)\n",
    "april=april.drop(['month'], axis=1)\n",
    "\n",
    "may= price_by_month_grouped[price_by_month_grouped['month']==5]\n",
    "may.rename(columns={'mean': 'may'}, inplace=True)\n",
    "may=may.drop(['month'], axis=1)\n",
    "\n",
    "june= price_by_month_grouped[price_by_month_grouped['month']==6]\n",
    "june.rename(columns={'mean': 'june'}, inplace=True)\n",
    "june=june.drop(['month'], axis=1)\n",
    "\n",
    "july= price_by_month_grouped[price_by_month_grouped['month']==7]\n",
    "july.rename(columns={'mean': 'july'}, inplace=True)\n",
    "july=july.drop(['month'], axis=1)\n",
    "\n",
    "august= price_by_month_grouped[price_by_month_grouped['month']==8]\n",
    "august.rename(columns={'mean': 'august'}, inplace=True)\n",
    "august=august.drop(['month'], axis=1)\n",
    "\n",
    "september= price_by_month_grouped[price_by_month_grouped['month']==9]\n",
    "september.rename(columns={'mean': 'september'}, inplace=True)\n",
    "september=september.drop(['month'], axis=1)\n",
    "\n",
    "october= price_by_month_grouped[price_by_month_grouped['month']==10]\n",
    "october.rename(columns={'mean': 'october'}, inplace=True)\n",
    "october=october.drop(['month'], axis=1)\n",
    "\n",
    "nov= price_by_month_grouped[price_by_month_grouped['month']==11]\n",
    "nov.rename(columns={'mean': 'nov'}, inplace=True)\n",
    "nov=nov.drop(['month'], axis=1)\n",
    "\n",
    "dec= price_by_month_grouped[price_by_month_grouped['month']==12]\n",
    "dec.rename(columns={'mean': 'dec'}, inplace=True)\n",
    "dec=dec.drop(['month'], axis=1)\n",
    "\n",
    "a =pd.merge(january, February, on='BRAND', how='inner')\n",
    "b =pd.merge(a, March, on='BRAND', how='inner')\n",
    "c =pd.merge(b, april, on='BRAND', how='inner')\n",
    "d =pd.merge(c, may, on='BRAND', how='inner')\n",
    "e =pd.merge(d, june, on='BRAND', how='inner')\n",
    "f =pd.merge(e, july, on='BRAND', how='inner')\n",
    "g =pd.merge(f, august, on='BRAND', how='inner')\n",
    "g_ =pd.merge(f, september, on='BRAND', how='inner')\n",
    "h =pd.merge(g_, october, on='BRAND', how='inner')\n",
    "i =pd.merge(h, nov, on='BRAND', how='inner')\n",
    "data =pd.merge(i, dec, on='BRAND', how='inner')\n",
    "data=data.drop(['BRAND'], axis=1)\n",
    "ax = sns.heatmap(data, linewidth=0.5,yticklabels=stations)\n",
    "plt.show()\n",
    "\n"
   ]
  },
  {
   "cell_type": "markdown",
   "metadata": {},
   "source": [
    "10.Describe a possible business potential in euros for the customer.\n",
    "Define the constraints of the business case 5 lines,the answer max 15 lines(high level summary)"
   ]
  },
  {
   "cell_type": "markdown",
   "metadata": {},
   "source": [
    "As per the above results we can derive that the prices keep fluctuating per station and gasoline type.\n",
    "The cheapest station in average is Winkler. So, this brand can be preferred for refuelling.\n",
    "Avoidance of expensive stations can be benefecial.\n",
    "The cheapest price will be most likely on Saturday.\n",
    "The cheapest price will be most likely at 18 Hour. Also prices get high in the months\n",
    "january and decemeber.\n",
    "Price is influenced by the hour a lot. So, when to refuel must mainly be based on hour\n",
    "Using cheapest station can save upto 20 cents every time we refuel. \n",
    "So, there is a lot of saving potential,if we choose the cheapest stations ,days or hours for refuelling.\n",
    "Moreover,we can discover a trend in the prices and predict the future prices.\n"
   ]
  },
  {
   "cell_type": "code",
   "execution_count": null,
   "metadata": {},
   "outputs": [],
   "source": []
  },
  {
   "cell_type": "code",
   "execution_count": 24,
   "metadata": {},
   "outputs": [
    {
     "name": "stderr",
     "output_type": "stream",
     "text": [
      "...\n",
      "----------------------------------------------------------------------\n",
      "Ran 3 tests in 0.006s\n",
      "\n",
      "OK\n"
     ]
    }
   ],
   "source": [
    "import unittest\n",
    "import pandas as pd\n",
    "\n",
    "def get_min(df):\n",
    "    return df.min()\n",
    "\n",
    "def get_max(df):\n",
    "    return df.max()\n",
    "\n",
    "class MyTest(unittest.TestCase):\n",
    "    def test_get_min(self):\n",
    "        d = {'col1': [1, 0, 2, 9, 8, 5], 'col2': [10, 0, -1, 1, -4, 6]}\n",
    "        df = pd.DataFrame(data=d)\n",
    "        self.assertEqual(get_min(df[\"col1\"]), 0)\n",
    "        self.assertEqual(get_min(df[\"col2\"]), -4)\n",
    "        \n",
    "    # Returns True if the string is in upper case. \n",
    "    def test_upper(self):         \n",
    "        self.assertEqual('foo'.upper(), 'FOO')\n",
    "        \n",
    "    def test_get_max(self):\n",
    "        d = {'col1': [1, 0, 2, 9, 8, 5], 'col2': [10, 0, -1, 1, -4, 6]}\n",
    "        df = pd.DataFrame(data=d)\n",
    "        self.assertEqual(get_max(df[\"col1\"]), 9)\n",
    "        self.assertEqual(get_max(df[\"col2\"]), 10)\n",
    "    \n",
    "        \n",
    "        \n",
    "\n",
    "if __name__ == '__main__':\n",
    "    unittest.main(argv=['first-arg-is-ignored'], exit=False)"
   ]
  },
  {
   "cell_type": "code",
   "execution_count": null,
   "metadata": {},
   "outputs": [],
   "source": []
  }
 ],
 "metadata": {
  "kernelspec": {
   "display_name": "Python 3",
   "language": "python",
   "name": "python3"
  },
  "language_info": {
   "codemirror_mode": {
    "name": "ipython",
    "version": 3
   },
   "file_extension": ".py",
   "mimetype": "text/x-python",
   "name": "python",
   "nbconvert_exporter": "python",
   "pygments_lexer": "ipython3",
   "version": "3.7.0"
  }
 },
 "nbformat": 4,
 "nbformat_minor": 2
}
